{
  "nbformat": 4,
  "nbformat_minor": 0,
  "metadata": {
    "colab": {
      "provenance": []
    },
    "kernelspec": {
      "name": "python3",
      "display_name": "Python 3"
    },
    "language_info": {
      "name": "python"
    }
  },
  "cells": [
    {
      "cell_type": "markdown",
      "source": [
        "\n",
        "## Problem Definition\n",
        "Develop a machine learning model to predict customer churn for a telecommunications company.\n",
        "\n",
        "Objective: To classify whether a customer will churn or not, using their personal and subscription information as input.\n",
        "Type of Problem: Binary classification.\n",
        "Evaluation Metric: AUC (Area Under the Curve).\n",
        "Goal: Improve the predictive performance of the model by enhancing the baseline code.\n",
        "When running the baseline code, the Public Score (AUC) is: 0.82182.\n",
        "\n"
      ],
      "metadata": {
        "id": "hhdXzwxPQ0GS"
      }
    },
    {
      "cell_type": "code",
      "execution_count": null,
      "metadata": {
        "colab": {
          "base_uri": "https://localhost:8080/",
          "height": 373
        },
        "id": "40iKfuP21jCs",
        "outputId": "477d919e-c112-4553-f15a-94297ff63167"
      },
      "outputs": [
        {
          "output_type": "error",
          "ename": "ValueError",
          "evalue": "mount failed",
          "traceback": [
            "\u001b[0;31m---------------------------------------------------------------------------\u001b[0m",
            "\u001b[0;31mValueError\u001b[0m                                Traceback (most recent call last)",
            "\u001b[0;32m<ipython-input-1-a6c85f61d407>\u001b[0m in \u001b[0;36m<cell line: 2>\u001b[0;34m()\u001b[0m\n\u001b[1;32m      1\u001b[0m \u001b[0;32mfrom\u001b[0m \u001b[0mgoogle\u001b[0m\u001b[0;34m.\u001b[0m\u001b[0mcolab\u001b[0m \u001b[0;32mimport\u001b[0m \u001b[0mdrive\u001b[0m\u001b[0;34m\u001b[0m\u001b[0;34m\u001b[0m\u001b[0m\n\u001b[0;32m----> 2\u001b[0;31m \u001b[0mdrive\u001b[0m\u001b[0;34m.\u001b[0m\u001b[0mmount\u001b[0m\u001b[0;34m(\u001b[0m\u001b[0;34m'/content/drive'\u001b[0m\u001b[0;34m)\u001b[0m\u001b[0;34m\u001b[0m\u001b[0;34m\u001b[0m\u001b[0m\n\u001b[0m\u001b[1;32m      3\u001b[0m \u001b[0mDATA_PATH\u001b[0m \u001b[0;34m=\u001b[0m \u001b[0;34m\"/content/drive/MyDrive/빅데이터 강의 /머신러닝(사이버대학교)/과제/\"\u001b[0m\u001b[0;34m\u001b[0m\u001b[0;34m\u001b[0m\u001b[0m\n\u001b[1;32m      4\u001b[0m \u001b[0mSEED\u001b[0m \u001b[0;34m=\u001b[0m \u001b[0;36m42\u001b[0m\u001b[0;34m\u001b[0m\u001b[0;34m\u001b[0m\u001b[0m\n\u001b[1;32m      5\u001b[0m \u001b[0;32mimport\u001b[0m \u001b[0mpandas\u001b[0m \u001b[0;32mas\u001b[0m \u001b[0mpd\u001b[0m\u001b[0;34m\u001b[0m\u001b[0;34m\u001b[0m\u001b[0m\n",
            "\u001b[0;32m/usr/local/lib/python3.10/dist-packages/google/colab/drive.py\u001b[0m in \u001b[0;36mmount\u001b[0;34m(mountpoint, force_remount, timeout_ms, readonly)\u001b[0m\n\u001b[1;32m     98\u001b[0m \u001b[0;32mdef\u001b[0m \u001b[0mmount\u001b[0m\u001b[0;34m(\u001b[0m\u001b[0mmountpoint\u001b[0m\u001b[0;34m,\u001b[0m \u001b[0mforce_remount\u001b[0m\u001b[0;34m=\u001b[0m\u001b[0;32mFalse\u001b[0m\u001b[0;34m,\u001b[0m \u001b[0mtimeout_ms\u001b[0m\u001b[0;34m=\u001b[0m\u001b[0;36m120000\u001b[0m\u001b[0;34m,\u001b[0m \u001b[0mreadonly\u001b[0m\u001b[0;34m=\u001b[0m\u001b[0;32mFalse\u001b[0m\u001b[0;34m)\u001b[0m\u001b[0;34m:\u001b[0m\u001b[0;34m\u001b[0m\u001b[0;34m\u001b[0m\u001b[0m\n\u001b[1;32m     99\u001b[0m   \u001b[0;34m\"\"\"Mount your Google Drive at the specified mountpoint path.\"\"\"\u001b[0m\u001b[0;34m\u001b[0m\u001b[0;34m\u001b[0m\u001b[0m\n\u001b[0;32m--> 100\u001b[0;31m   return _mount(\n\u001b[0m\u001b[1;32m    101\u001b[0m       \u001b[0mmountpoint\u001b[0m\u001b[0;34m,\u001b[0m\u001b[0;34m\u001b[0m\u001b[0;34m\u001b[0m\u001b[0m\n\u001b[1;32m    102\u001b[0m       \u001b[0mforce_remount\u001b[0m\u001b[0;34m=\u001b[0m\u001b[0mforce_remount\u001b[0m\u001b[0;34m,\u001b[0m\u001b[0;34m\u001b[0m\u001b[0;34m\u001b[0m\u001b[0m\n",
            "\u001b[0;32m/usr/local/lib/python3.10/dist-packages/google/colab/drive.py\u001b[0m in \u001b[0;36m_mount\u001b[0;34m(mountpoint, force_remount, timeout_ms, ephemeral, readonly)\u001b[0m\n\u001b[1;32m    275\u001b[0m             \u001b[0;34m'https://research.google.com/colaboratory/faq.html#drive-timeout'\u001b[0m\u001b[0;34m\u001b[0m\u001b[0;34m\u001b[0m\u001b[0m\n\u001b[1;32m    276\u001b[0m         )\n\u001b[0;32m--> 277\u001b[0;31m       \u001b[0;32mraise\u001b[0m \u001b[0mValueError\u001b[0m\u001b[0;34m(\u001b[0m\u001b[0;34m'mount failed'\u001b[0m \u001b[0;34m+\u001b[0m \u001b[0mextra_reason\u001b[0m\u001b[0;34m)\u001b[0m\u001b[0;34m\u001b[0m\u001b[0;34m\u001b[0m\u001b[0m\n\u001b[0m\u001b[1;32m    278\u001b[0m     \u001b[0;32melif\u001b[0m \u001b[0mcase\u001b[0m \u001b[0;34m==\u001b[0m \u001b[0;36m4\u001b[0m\u001b[0;34m:\u001b[0m\u001b[0;34m\u001b[0m\u001b[0;34m\u001b[0m\u001b[0m\n\u001b[1;32m    279\u001b[0m       \u001b[0;31m# Terminate the DriveFS binary before killing bash.\u001b[0m\u001b[0;34m\u001b[0m\u001b[0;34m\u001b[0m\u001b[0m\n",
            "\u001b[0;31mValueError\u001b[0m: mount failed"
          ]
        }
      ],
      "source": [
        "from google.colab import drive\n",
        "drive.mount('/content/drive')\n",
        "DATA_PATH = \"/content/drive/MyDrive/빅데이터 강의 /머신러닝(사이버대학교)/과제/\"\n",
        "SEED = 42\n",
        "import pandas as pd\n",
        "import numpy as np\n",
        "\n",
        "train = pd.read_csv(f\"{DATA_PATH}customer_train.csv\") # 학습데이터\n",
        "test = pd.read_csv(f\"{DATA_PATH}customer_test.csv\") # 테스트 데이터\n",
        "test_target = pd.read_csv(f\"{DATA_PATH}sample_submission.csv\") # 테스트데이터 정답값\n",
        "train.shape , test.shape , test_target.shape"
      ]
    },
    {
      "cell_type": "code",
      "source": [
        "train.isnull().sum()"
      ],
      "metadata": {
        "colab": {
          "base_uri": "https://localhost:8080/"
        },
        "id": "bVI0r-LE1pFL",
        "outputId": "91b79dbf-ec09-4612-d186-60461336bc5a"
      },
      "execution_count": null,
      "outputs": [
        {
          "output_type": "execute_result",
          "data": {
            "text/plain": [
              "ID                   0\n",
              "성별                   0\n",
              "고령자여부                0\n",
              "기혼여부                 0\n",
              "부양가족여부               0\n",
              "가입기간                 0\n",
              "집전화이용여부              0\n",
              "다중회선여부               0\n",
              "인터넷이용방식           1071\n",
              "인터넷보안서비스사용여부         0\n",
              "인터넷백업서비스사용여부         0\n",
              "기기방화벽서비스사용여부         0\n",
              "인터넷기술지원서비스사용여부       0\n",
              "스트리밍TV여부             0\n",
              "스트리밍영화여부             0\n",
              "약정기간                 0\n",
              "지로여부                 0\n",
              "지불방법                 0\n",
              "한달요금                 0\n",
              "총지불요금                0\n",
              "이탈여부                 0\n",
              "dtype: int64"
            ]
          },
          "metadata": {},
          "execution_count": 2
        }
      ]
    },
    {
      "cell_type": "code",
      "source": [
        "test.isnull().sum()"
      ],
      "metadata": {
        "colab": {
          "base_uri": "https://localhost:8080/"
        },
        "id": "KOe9shy31qWk",
        "outputId": "60427024-ff69-4b4e-abc4-7250b1ba6d8e"
      },
      "execution_count": null,
      "outputs": [
        {
          "output_type": "execute_result",
          "data": {
            "text/plain": [
              "ID                  0\n",
              "성별                  0\n",
              "고령자여부               0\n",
              "기혼여부                0\n",
              "부양가족여부              0\n",
              "가입기간                0\n",
              "집전화이용여부             0\n",
              "다중회선여부              0\n",
              "인터넷이용방식           455\n",
              "인터넷보안서비스사용여부        0\n",
              "인터넷백업서비스사용여부        0\n",
              "기기방화벽서비스사용여부        0\n",
              "인터넷기술지원서비스사용여부      0\n",
              "스트리밍TV여부            0\n",
              "스트리밍영화여부            0\n",
              "약정기간                0\n",
              "지로여부                0\n",
              "지불방법                0\n",
              "한달요금                0\n",
              "총지불요금               0\n",
              "dtype: int64"
            ]
          },
          "metadata": {},
          "execution_count": 3
        }
      ]
    },
    {
      "cell_type": "code",
      "source": [
        "train[\"인터넷이용방식\"] = train[\"인터넷이용방식\"].fillna(\"UNK\")\n",
        "test[\"인터넷이용방식\"] = test[\"인터넷이용방식\"].fillna(\"UNK\")"
      ],
      "metadata": {
        "id": "LhiBSK3x1yD5"
      },
      "execution_count": null,
      "outputs": []
    },
    {
      "cell_type": "code",
      "source": [
        "train.isnull().sum().sum() , test.isnull().sum().sum()"
      ],
      "metadata": {
        "colab": {
          "base_uri": "https://localhost:8080/"
        },
        "id": "O2XNj_5H1zQE",
        "outputId": "cfa8fc62-5799-46e9-db59-04130bd991b3"
      },
      "execution_count": null,
      "outputs": [
        {
          "output_type": "execute_result",
          "data": {
            "text/plain": [
              "(0, 0)"
            ]
          },
          "metadata": {},
          "execution_count": 5
        }
      ]
    },
    {
      "cell_type": "code",
      "source": [
        "train[\"이탈여부\"].mean()"
      ],
      "metadata": {
        "colab": {
          "base_uri": "https://localhost:8080/"
        },
        "id": "Vq0O4Dwf2IT7",
        "outputId": "38a48241-bd97-411d-a36f-56a55189ed62"
      },
      "execution_count": null,
      "outputs": [
        {
          "output_type": "execute_result",
          "data": {
            "text/plain": [
              "0.2653144016227181"
            ]
          },
          "metadata": {},
          "execution_count": 6
        }
      ]
    },
    {
      "cell_type": "code",
      "source": [
        "train_ft = train.iloc[:,1:-1].copy() # ID 및 정답 제외\n",
        "test_ft = test.iloc[:,1:].copy() # ID 제외\n",
        "train_ft.shape, test_ft.shape\n",
        "train_ft.head()"
      ],
      "metadata": {
        "colab": {
          "base_uri": "https://localhost:8080/",
          "height": 285
        },
        "id": "WQCHvf6a2Jej",
        "outputId": "1bf4d89b-b6d6-4129-cd35-128fa4af9cc1"
      },
      "execution_count": null,
      "outputs": [
        {
          "output_type": "execute_result",
          "data": {
            "text/plain": [
              "   성별  고령자여부  기혼여부  부양가족여부  가입기간  집전화이용여부  다중회선여부 인터넷이용방식  인터넷보안서비스사용여부  \\\n",
              "0   1      0     0       0    23        1       0       광             0   \n",
              "1   1      0     0       0     1        1       0     디지털             0   \n",
              "2   0      0     0       0    23        1       1       광             0   \n",
              "3   1      0     0       0    11        1       0     디지털             0   \n",
              "4   1      0     0       0     5        1       1       광             0   \n",
              "\n",
              "   인터넷백업서비스사용여부  기기방화벽서비스사용여부  인터넷기술지원서비스사용여부  스트리밍TV여부  스트리밍영화여부  약정기간  지로여부  \\\n",
              "0             1             0               1         0         0     0     0   \n",
              "1             0             0               0         0         0     0     0   \n",
              "2             0             1               1         1         1     0     0   \n",
              "3             0             1               1         0         1     1     1   \n",
              "4             0             0               0         1         0     0     0   \n",
              "\n",
              "   지불방법    한달요금    총지불요금  \n",
              "0    메일   79.10  1783.75  \n",
              "1    메일   45.40    45.40  \n",
              "2    메일  104.05  2470.10  \n",
              "3  신용카드   64.90   697.25  \n",
              "4    전자   85.20   474.80  "
            ],
            "text/html": [
              "\n",
              "  <div id=\"df-d6573cf4-0ff3-4401-8444-1a3f5b120f99\">\n",
              "    <div class=\"colab-df-container\">\n",
              "      <div>\n",
              "<style scoped>\n",
              "    .dataframe tbody tr th:only-of-type {\n",
              "        vertical-align: middle;\n",
              "    }\n",
              "\n",
              "    .dataframe tbody tr th {\n",
              "        vertical-align: top;\n",
              "    }\n",
              "\n",
              "    .dataframe thead th {\n",
              "        text-align: right;\n",
              "    }\n",
              "</style>\n",
              "<table border=\"1\" class=\"dataframe\">\n",
              "  <thead>\n",
              "    <tr style=\"text-align: right;\">\n",
              "      <th></th>\n",
              "      <th>성별</th>\n",
              "      <th>고령자여부</th>\n",
              "      <th>기혼여부</th>\n",
              "      <th>부양가족여부</th>\n",
              "      <th>가입기간</th>\n",
              "      <th>집전화이용여부</th>\n",
              "      <th>다중회선여부</th>\n",
              "      <th>인터넷이용방식</th>\n",
              "      <th>인터넷보안서비스사용여부</th>\n",
              "      <th>인터넷백업서비스사용여부</th>\n",
              "      <th>기기방화벽서비스사용여부</th>\n",
              "      <th>인터넷기술지원서비스사용여부</th>\n",
              "      <th>스트리밍TV여부</th>\n",
              "      <th>스트리밍영화여부</th>\n",
              "      <th>약정기간</th>\n",
              "      <th>지로여부</th>\n",
              "      <th>지불방법</th>\n",
              "      <th>한달요금</th>\n",
              "      <th>총지불요금</th>\n",
              "    </tr>\n",
              "  </thead>\n",
              "  <tbody>\n",
              "    <tr>\n",
              "      <th>0</th>\n",
              "      <td>1</td>\n",
              "      <td>0</td>\n",
              "      <td>0</td>\n",
              "      <td>0</td>\n",
              "      <td>23</td>\n",
              "      <td>1</td>\n",
              "      <td>0</td>\n",
              "      <td>광</td>\n",
              "      <td>0</td>\n",
              "      <td>1</td>\n",
              "      <td>0</td>\n",
              "      <td>1</td>\n",
              "      <td>0</td>\n",
              "      <td>0</td>\n",
              "      <td>0</td>\n",
              "      <td>0</td>\n",
              "      <td>메일</td>\n",
              "      <td>79.10</td>\n",
              "      <td>1783.75</td>\n",
              "    </tr>\n",
              "    <tr>\n",
              "      <th>1</th>\n",
              "      <td>1</td>\n",
              "      <td>0</td>\n",
              "      <td>0</td>\n",
              "      <td>0</td>\n",
              "      <td>1</td>\n",
              "      <td>1</td>\n",
              "      <td>0</td>\n",
              "      <td>디지털</td>\n",
              "      <td>0</td>\n",
              "      <td>0</td>\n",
              "      <td>0</td>\n",
              "      <td>0</td>\n",
              "      <td>0</td>\n",
              "      <td>0</td>\n",
              "      <td>0</td>\n",
              "      <td>0</td>\n",
              "      <td>메일</td>\n",
              "      <td>45.40</td>\n",
              "      <td>45.40</td>\n",
              "    </tr>\n",
              "    <tr>\n",
              "      <th>2</th>\n",
              "      <td>0</td>\n",
              "      <td>0</td>\n",
              "      <td>0</td>\n",
              "      <td>0</td>\n",
              "      <td>23</td>\n",
              "      <td>1</td>\n",
              "      <td>1</td>\n",
              "      <td>광</td>\n",
              "      <td>0</td>\n",
              "      <td>0</td>\n",
              "      <td>1</td>\n",
              "      <td>1</td>\n",
              "      <td>1</td>\n",
              "      <td>1</td>\n",
              "      <td>0</td>\n",
              "      <td>0</td>\n",
              "      <td>메일</td>\n",
              "      <td>104.05</td>\n",
              "      <td>2470.10</td>\n",
              "    </tr>\n",
              "    <tr>\n",
              "      <th>3</th>\n",
              "      <td>1</td>\n",
              "      <td>0</td>\n",
              "      <td>0</td>\n",
              "      <td>0</td>\n",
              "      <td>11</td>\n",
              "      <td>1</td>\n",
              "      <td>0</td>\n",
              "      <td>디지털</td>\n",
              "      <td>0</td>\n",
              "      <td>0</td>\n",
              "      <td>1</td>\n",
              "      <td>1</td>\n",
              "      <td>0</td>\n",
              "      <td>1</td>\n",
              "      <td>1</td>\n",
              "      <td>1</td>\n",
              "      <td>신용카드</td>\n",
              "      <td>64.90</td>\n",
              "      <td>697.25</td>\n",
              "    </tr>\n",
              "    <tr>\n",
              "      <th>4</th>\n",
              "      <td>1</td>\n",
              "      <td>0</td>\n",
              "      <td>0</td>\n",
              "      <td>0</td>\n",
              "      <td>5</td>\n",
              "      <td>1</td>\n",
              "      <td>1</td>\n",
              "      <td>광</td>\n",
              "      <td>0</td>\n",
              "      <td>0</td>\n",
              "      <td>0</td>\n",
              "      <td>0</td>\n",
              "      <td>1</td>\n",
              "      <td>0</td>\n",
              "      <td>0</td>\n",
              "      <td>0</td>\n",
              "      <td>전자</td>\n",
              "      <td>85.20</td>\n",
              "      <td>474.80</td>\n",
              "    </tr>\n",
              "  </tbody>\n",
              "</table>\n",
              "</div>\n",
              "      <button class=\"colab-df-convert\" onclick=\"convertToInteractive('df-d6573cf4-0ff3-4401-8444-1a3f5b120f99')\"\n",
              "              title=\"Convert this dataframe to an interactive table.\"\n",
              "              style=\"display:none;\">\n",
              "        \n",
              "  <svg xmlns=\"http://www.w3.org/2000/svg\" height=\"24px\"viewBox=\"0 0 24 24\"\n",
              "       width=\"24px\">\n",
              "    <path d=\"M0 0h24v24H0V0z\" fill=\"none\"/>\n",
              "    <path d=\"M18.56 5.44l.94 2.06.94-2.06 2.06-.94-2.06-.94-.94-2.06-.94 2.06-2.06.94zm-11 1L8.5 8.5l.94-2.06 2.06-.94-2.06-.94L8.5 2.5l-.94 2.06-2.06.94zm10 10l.94 2.06.94-2.06 2.06-.94-2.06-.94-.94-2.06-.94 2.06-2.06.94z\"/><path d=\"M17.41 7.96l-1.37-1.37c-.4-.4-.92-.59-1.43-.59-.52 0-1.04.2-1.43.59L10.3 9.45l-7.72 7.72c-.78.78-.78 2.05 0 2.83L4 21.41c.39.39.9.59 1.41.59.51 0 1.02-.2 1.41-.59l7.78-7.78 2.81-2.81c.8-.78.8-2.07 0-2.86zM5.41 20L4 18.59l7.72-7.72 1.47 1.35L5.41 20z\"/>\n",
              "  </svg>\n",
              "      </button>\n",
              "      \n",
              "  <style>\n",
              "    .colab-df-container {\n",
              "      display:flex;\n",
              "      flex-wrap:wrap;\n",
              "      gap: 12px;\n",
              "    }\n",
              "\n",
              "    .colab-df-convert {\n",
              "      background-color: #E8F0FE;\n",
              "      border: none;\n",
              "      border-radius: 50%;\n",
              "      cursor: pointer;\n",
              "      display: none;\n",
              "      fill: #1967D2;\n",
              "      height: 32px;\n",
              "      padding: 0 0 0 0;\n",
              "      width: 32px;\n",
              "    }\n",
              "\n",
              "    .colab-df-convert:hover {\n",
              "      background-color: #E2EBFA;\n",
              "      box-shadow: 0px 1px 2px rgba(60, 64, 67, 0.3), 0px 1px 3px 1px rgba(60, 64, 67, 0.15);\n",
              "      fill: #174EA6;\n",
              "    }\n",
              "\n",
              "    [theme=dark] .colab-df-convert {\n",
              "      background-color: #3B4455;\n",
              "      fill: #D2E3FC;\n",
              "    }\n",
              "\n",
              "    [theme=dark] .colab-df-convert:hover {\n",
              "      background-color: #434B5C;\n",
              "      box-shadow: 0px 1px 3px 1px rgba(0, 0, 0, 0.15);\n",
              "      filter: drop-shadow(0px 1px 2px rgba(0, 0, 0, 0.3));\n",
              "      fill: #FFFFFF;\n",
              "    }\n",
              "  </style>\n",
              "\n",
              "      <script>\n",
              "        const buttonEl =\n",
              "          document.querySelector('#df-d6573cf4-0ff3-4401-8444-1a3f5b120f99 button.colab-df-convert');\n",
              "        buttonEl.style.display =\n",
              "          google.colab.kernel.accessAllowed ? 'block' : 'none';\n",
              "\n",
              "        async function convertToInteractive(key) {\n",
              "          const element = document.querySelector('#df-d6573cf4-0ff3-4401-8444-1a3f5b120f99');\n",
              "          const dataTable =\n",
              "            await google.colab.kernel.invokeFunction('convertToInteractive',\n",
              "                                                     [key], {});\n",
              "          if (!dataTable) return;\n",
              "\n",
              "          const docLinkHtml = 'Like what you see? Visit the ' +\n",
              "            '<a target=\"_blank\" href=https://colab.research.google.com/notebooks/data_table.ipynb>data table notebook</a>'\n",
              "            + ' to learn more about interactive tables.';\n",
              "          element.innerHTML = '';\n",
              "          dataTable['output_type'] = 'display_data';\n",
              "          await google.colab.output.renderOutput(dataTable, element);\n",
              "          const docLink = document.createElement('div');\n",
              "          docLink.innerHTML = docLinkHtml;\n",
              "          element.appendChild(docLink);\n",
              "        }\n",
              "      </script>\n",
              "    </div>\n",
              "  </div>\n",
              "  "
            ]
          },
          "metadata": {},
          "execution_count": 7
        }
      ]
    },
    {
      "cell_type": "code",
      "source": [
        "!pip install category_encoders"
      ],
      "metadata": {
        "colab": {
          "base_uri": "https://localhost:8080/"
        },
        "id": "XtDZrNg02QI2",
        "outputId": "77fd9143-6b7e-4370-ef9f-eb819107e65a"
      },
      "execution_count": null,
      "outputs": [
        {
          "output_type": "stream",
          "name": "stdout",
          "text": [
            "Looking in indexes: https://pypi.org/simple, https://us-python.pkg.dev/colab-wheels/public/simple/\n",
            "Collecting category_encoders\n",
            "  Downloading category_encoders-2.6.1-py2.py3-none-any.whl (81 kB)\n",
            "\u001b[2K     \u001b[90m━━━━━━━━━━━━━━━━━━━━━━━━━━━━━━━━━━━━━━━━\u001b[0m \u001b[32m81.9/81.9 kB\u001b[0m \u001b[31m5.7 MB/s\u001b[0m eta \u001b[36m0:00:00\u001b[0m\n",
            "\u001b[?25hRequirement already satisfied: numpy>=1.14.0 in /usr/local/lib/python3.10/dist-packages (from category_encoders) (1.22.4)\n",
            "Requirement already satisfied: scikit-learn>=0.20.0 in /usr/local/lib/python3.10/dist-packages (from category_encoders) (1.2.2)\n",
            "Requirement already satisfied: scipy>=1.0.0 in /usr/local/lib/python3.10/dist-packages (from category_encoders) (1.10.1)\n",
            "Requirement already satisfied: statsmodels>=0.9.0 in /usr/local/lib/python3.10/dist-packages (from category_encoders) (0.13.5)\n",
            "Requirement already satisfied: pandas>=1.0.5 in /usr/local/lib/python3.10/dist-packages (from category_encoders) (1.5.3)\n",
            "Requirement already satisfied: patsy>=0.5.1 in /usr/local/lib/python3.10/dist-packages (from category_encoders) (0.5.3)\n",
            "Requirement already satisfied: python-dateutil>=2.8.1 in /usr/local/lib/python3.10/dist-packages (from pandas>=1.0.5->category_encoders) (2.8.2)\n",
            "Requirement already satisfied: pytz>=2020.1 in /usr/local/lib/python3.10/dist-packages (from pandas>=1.0.5->category_encoders) (2022.7.1)\n",
            "Requirement already satisfied: six in /usr/local/lib/python3.10/dist-packages (from patsy>=0.5.1->category_encoders) (1.16.0)\n",
            "Requirement already satisfied: joblib>=1.1.1 in /usr/local/lib/python3.10/dist-packages (from scikit-learn>=0.20.0->category_encoders) (1.2.0)\n",
            "Requirement already satisfied: threadpoolctl>=2.0.0 in /usr/local/lib/python3.10/dist-packages (from scikit-learn>=0.20.0->category_encoders) (3.1.0)\n",
            "Requirement already satisfied: packaging>=21.3 in /usr/local/lib/python3.10/dist-packages (from statsmodels>=0.9.0->category_encoders) (23.1)\n",
            "Installing collected packages: category_encoders\n",
            "Successfully installed category_encoders-2.6.1\n"
          ]
        }
      ]
    },
    {
      "cell_type": "code",
      "source": [
        "import category_encoders as ce"
      ],
      "metadata": {
        "id": "HlO8tzc72RMY"
      },
      "execution_count": null,
      "outputs": []
    },
    {
      "cell_type": "code",
      "source": [
        "train_ft.columns"
      ],
      "metadata": {
        "colab": {
          "base_uri": "https://localhost:8080/"
        },
        "id": "YHG0h-bG2SMi",
        "outputId": "113f6e3a-1bdf-448f-e77b-a14ae606144b"
      },
      "execution_count": null,
      "outputs": [
        {
          "output_type": "execute_result",
          "data": {
            "text/plain": [
              "Index(['성별', '고령자여부', '기혼여부', '부양가족여부', '가입기간', '집전화이용여부', '다중회선여부', '인터넷이용방식',\n",
              "       '인터넷보안서비스사용여부', '인터넷백업서비스사용여부', '기기방화벽서비스사용여부', '인터넷기술지원서비스사용여부',\n",
              "       '스트리밍TV여부', '스트리밍영화여부', '약정기간', '지로여부', '지불방법', '한달요금', '총지불요금'],\n",
              "      dtype='object')"
            ]
          },
          "metadata": {},
          "execution_count": 10
        }
      ]
    },
    {
      "cell_type": "code",
      "source": [
        "cols = [\"인터넷이용방식\",\"지불방법\"]\n",
        "\n",
        "enc = ce.one_hot.OneHotEncoder(return_df=True)\n",
        "\n",
        "# 학습데이터\n",
        "tmp = enc.fit_transform(train_ft[cols]).add_prefix(\"onehot_\")\n",
        "train_ft = pd.concat([train_ft,tmp],axis=1)\n",
        "\n",
        "# 테스트데이터\n",
        "tmp = enc.transform(test_ft[cols]).add_prefix(\"onehot_\")\n",
        "test_ft = pd.concat([test_ft,tmp],axis=1)\n",
        "train_ft.head()"
      ],
      "metadata": {
        "colab": {
          "base_uri": "https://localhost:8080/",
          "height": 331
        },
        "id": "3MgbBlwi2TwE",
        "outputId": "95bfbc4a-d4db-447c-a0f0-8eaff9e3e67c"
      },
      "execution_count": null,
      "outputs": [
        {
          "output_type": "execute_result",
          "data": {
            "text/plain": [
              "   성별  고령자여부  기혼여부  부양가족여부  가입기간  집전화이용여부  다중회선여부 인터넷이용방식  인터넷보안서비스사용여부  \\\n",
              "0   1      0     0       0    23        1       0       광             0   \n",
              "1   1      0     0       0     1        1       0     디지털             0   \n",
              "2   0      0     0       0    23        1       1       광             0   \n",
              "3   1      0     0       0    11        1       0     디지털             0   \n",
              "4   1      0     0       0     5        1       1       광             0   \n",
              "\n",
              "   인터넷백업서비스사용여부  ...  지불방법    한달요금    총지불요금  onehot_인터넷이용방식_1  \\\n",
              "0             1  ...    메일   79.10  1783.75                 1   \n",
              "1             0  ...    메일   45.40    45.40                 0   \n",
              "2             0  ...    메일  104.05  2470.10                 1   \n",
              "3             0  ...  신용카드   64.90   697.25                 0   \n",
              "4             0  ...    전자   85.20   474.80                 1   \n",
              "\n",
              "   onehot_인터넷이용방식_2  onehot_인터넷이용방식_3 onehot_지불방법_1  onehot_지불방법_2  \\\n",
              "0                 0                 0             1              0   \n",
              "1                 1                 0             1              0   \n",
              "2                 0                 0             1              0   \n",
              "3                 1                 0             0              1   \n",
              "4                 0                 0             0              0   \n",
              "\n",
              "   onehot_지불방법_3  onehot_지불방법_4  \n",
              "0              0              0  \n",
              "1              0              0  \n",
              "2              0              0  \n",
              "3              0              0  \n",
              "4              1              0  \n",
              "\n",
              "[5 rows x 26 columns]"
            ],
            "text/html": [
              "\n",
              "  <div id=\"df-28b2ea1d-e2ca-4cb7-947f-efeb671b02d7\">\n",
              "    <div class=\"colab-df-container\">\n",
              "      <div>\n",
              "<style scoped>\n",
              "    .dataframe tbody tr th:only-of-type {\n",
              "        vertical-align: middle;\n",
              "    }\n",
              "\n",
              "    .dataframe tbody tr th {\n",
              "        vertical-align: top;\n",
              "    }\n",
              "\n",
              "    .dataframe thead th {\n",
              "        text-align: right;\n",
              "    }\n",
              "</style>\n",
              "<table border=\"1\" class=\"dataframe\">\n",
              "  <thead>\n",
              "    <tr style=\"text-align: right;\">\n",
              "      <th></th>\n",
              "      <th>성별</th>\n",
              "      <th>고령자여부</th>\n",
              "      <th>기혼여부</th>\n",
              "      <th>부양가족여부</th>\n",
              "      <th>가입기간</th>\n",
              "      <th>집전화이용여부</th>\n",
              "      <th>다중회선여부</th>\n",
              "      <th>인터넷이용방식</th>\n",
              "      <th>인터넷보안서비스사용여부</th>\n",
              "      <th>인터넷백업서비스사용여부</th>\n",
              "      <th>...</th>\n",
              "      <th>지불방법</th>\n",
              "      <th>한달요금</th>\n",
              "      <th>총지불요금</th>\n",
              "      <th>onehot_인터넷이용방식_1</th>\n",
              "      <th>onehot_인터넷이용방식_2</th>\n",
              "      <th>onehot_인터넷이용방식_3</th>\n",
              "      <th>onehot_지불방법_1</th>\n",
              "      <th>onehot_지불방법_2</th>\n",
              "      <th>onehot_지불방법_3</th>\n",
              "      <th>onehot_지불방법_4</th>\n",
              "    </tr>\n",
              "  </thead>\n",
              "  <tbody>\n",
              "    <tr>\n",
              "      <th>0</th>\n",
              "      <td>1</td>\n",
              "      <td>0</td>\n",
              "      <td>0</td>\n",
              "      <td>0</td>\n",
              "      <td>23</td>\n",
              "      <td>1</td>\n",
              "      <td>0</td>\n",
              "      <td>광</td>\n",
              "      <td>0</td>\n",
              "      <td>1</td>\n",
              "      <td>...</td>\n",
              "      <td>메일</td>\n",
              "      <td>79.10</td>\n",
              "      <td>1783.75</td>\n",
              "      <td>1</td>\n",
              "      <td>0</td>\n",
              "      <td>0</td>\n",
              "      <td>1</td>\n",
              "      <td>0</td>\n",
              "      <td>0</td>\n",
              "      <td>0</td>\n",
              "    </tr>\n",
              "    <tr>\n",
              "      <th>1</th>\n",
              "      <td>1</td>\n",
              "      <td>0</td>\n",
              "      <td>0</td>\n",
              "      <td>0</td>\n",
              "      <td>1</td>\n",
              "      <td>1</td>\n",
              "      <td>0</td>\n",
              "      <td>디지털</td>\n",
              "      <td>0</td>\n",
              "      <td>0</td>\n",
              "      <td>...</td>\n",
              "      <td>메일</td>\n",
              "      <td>45.40</td>\n",
              "      <td>45.40</td>\n",
              "      <td>0</td>\n",
              "      <td>1</td>\n",
              "      <td>0</td>\n",
              "      <td>1</td>\n",
              "      <td>0</td>\n",
              "      <td>0</td>\n",
              "      <td>0</td>\n",
              "    </tr>\n",
              "    <tr>\n",
              "      <th>2</th>\n",
              "      <td>0</td>\n",
              "      <td>0</td>\n",
              "      <td>0</td>\n",
              "      <td>0</td>\n",
              "      <td>23</td>\n",
              "      <td>1</td>\n",
              "      <td>1</td>\n",
              "      <td>광</td>\n",
              "      <td>0</td>\n",
              "      <td>0</td>\n",
              "      <td>...</td>\n",
              "      <td>메일</td>\n",
              "      <td>104.05</td>\n",
              "      <td>2470.10</td>\n",
              "      <td>1</td>\n",
              "      <td>0</td>\n",
              "      <td>0</td>\n",
              "      <td>1</td>\n",
              "      <td>0</td>\n",
              "      <td>0</td>\n",
              "      <td>0</td>\n",
              "    </tr>\n",
              "    <tr>\n",
              "      <th>3</th>\n",
              "      <td>1</td>\n",
              "      <td>0</td>\n",
              "      <td>0</td>\n",
              "      <td>0</td>\n",
              "      <td>11</td>\n",
              "      <td>1</td>\n",
              "      <td>0</td>\n",
              "      <td>디지털</td>\n",
              "      <td>0</td>\n",
              "      <td>0</td>\n",
              "      <td>...</td>\n",
              "      <td>신용카드</td>\n",
              "      <td>64.90</td>\n",
              "      <td>697.25</td>\n",
              "      <td>0</td>\n",
              "      <td>1</td>\n",
              "      <td>0</td>\n",
              "      <td>0</td>\n",
              "      <td>1</td>\n",
              "      <td>0</td>\n",
              "      <td>0</td>\n",
              "    </tr>\n",
              "    <tr>\n",
              "      <th>4</th>\n",
              "      <td>1</td>\n",
              "      <td>0</td>\n",
              "      <td>0</td>\n",
              "      <td>0</td>\n",
              "      <td>5</td>\n",
              "      <td>1</td>\n",
              "      <td>1</td>\n",
              "      <td>광</td>\n",
              "      <td>0</td>\n",
              "      <td>0</td>\n",
              "      <td>...</td>\n",
              "      <td>전자</td>\n",
              "      <td>85.20</td>\n",
              "      <td>474.80</td>\n",
              "      <td>1</td>\n",
              "      <td>0</td>\n",
              "      <td>0</td>\n",
              "      <td>0</td>\n",
              "      <td>0</td>\n",
              "      <td>1</td>\n",
              "      <td>0</td>\n",
              "    </tr>\n",
              "  </tbody>\n",
              "</table>\n",
              "<p>5 rows × 26 columns</p>\n",
              "</div>\n",
              "      <button class=\"colab-df-convert\" onclick=\"convertToInteractive('df-28b2ea1d-e2ca-4cb7-947f-efeb671b02d7')\"\n",
              "              title=\"Convert this dataframe to an interactive table.\"\n",
              "              style=\"display:none;\">\n",
              "        \n",
              "  <svg xmlns=\"http://www.w3.org/2000/svg\" height=\"24px\"viewBox=\"0 0 24 24\"\n",
              "       width=\"24px\">\n",
              "    <path d=\"M0 0h24v24H0V0z\" fill=\"none\"/>\n",
              "    <path d=\"M18.56 5.44l.94 2.06.94-2.06 2.06-.94-2.06-.94-.94-2.06-.94 2.06-2.06.94zm-11 1L8.5 8.5l.94-2.06 2.06-.94-2.06-.94L8.5 2.5l-.94 2.06-2.06.94zm10 10l.94 2.06.94-2.06 2.06-.94-2.06-.94-.94-2.06-.94 2.06-2.06.94z\"/><path d=\"M17.41 7.96l-1.37-1.37c-.4-.4-.92-.59-1.43-.59-.52 0-1.04.2-1.43.59L10.3 9.45l-7.72 7.72c-.78.78-.78 2.05 0 2.83L4 21.41c.39.39.9.59 1.41.59.51 0 1.02-.2 1.41-.59l7.78-7.78 2.81-2.81c.8-.78.8-2.07 0-2.86zM5.41 20L4 18.59l7.72-7.72 1.47 1.35L5.41 20z\"/>\n",
              "  </svg>\n",
              "      </button>\n",
              "      \n",
              "  <style>\n",
              "    .colab-df-container {\n",
              "      display:flex;\n",
              "      flex-wrap:wrap;\n",
              "      gap: 12px;\n",
              "    }\n",
              "\n",
              "    .colab-df-convert {\n",
              "      background-color: #E8F0FE;\n",
              "      border: none;\n",
              "      border-radius: 50%;\n",
              "      cursor: pointer;\n",
              "      display: none;\n",
              "      fill: #1967D2;\n",
              "      height: 32px;\n",
              "      padding: 0 0 0 0;\n",
              "      width: 32px;\n",
              "    }\n",
              "\n",
              "    .colab-df-convert:hover {\n",
              "      background-color: #E2EBFA;\n",
              "      box-shadow: 0px 1px 2px rgba(60, 64, 67, 0.3), 0px 1px 3px 1px rgba(60, 64, 67, 0.15);\n",
              "      fill: #174EA6;\n",
              "    }\n",
              "\n",
              "    [theme=dark] .colab-df-convert {\n",
              "      background-color: #3B4455;\n",
              "      fill: #D2E3FC;\n",
              "    }\n",
              "\n",
              "    [theme=dark] .colab-df-convert:hover {\n",
              "      background-color: #434B5C;\n",
              "      box-shadow: 0px 1px 3px 1px rgba(0, 0, 0, 0.15);\n",
              "      filter: drop-shadow(0px 1px 2px rgba(0, 0, 0, 0.3));\n",
              "      fill: #FFFFFF;\n",
              "    }\n",
              "  </style>\n",
              "\n",
              "      <script>\n",
              "        const buttonEl =\n",
              "          document.querySelector('#df-28b2ea1d-e2ca-4cb7-947f-efeb671b02d7 button.colab-df-convert');\n",
              "        buttonEl.style.display =\n",
              "          google.colab.kernel.accessAllowed ? 'block' : 'none';\n",
              "\n",
              "        async function convertToInteractive(key) {\n",
              "          const element = document.querySelector('#df-28b2ea1d-e2ca-4cb7-947f-efeb671b02d7');\n",
              "          const dataTable =\n",
              "            await google.colab.kernel.invokeFunction('convertToInteractive',\n",
              "                                                     [key], {});\n",
              "          if (!dataTable) return;\n",
              "\n",
              "          const docLinkHtml = 'Like what you see? Visit the ' +\n",
              "            '<a target=\"_blank\" href=https://colab.research.google.com/notebooks/data_table.ipynb>data table notebook</a>'\n",
              "            + ' to learn more about interactive tables.';\n",
              "          element.innerHTML = '';\n",
              "          dataTable['output_type'] = 'display_data';\n",
              "          await google.colab.output.renderOutput(dataTable, element);\n",
              "          const docLink = document.createElement('div');\n",
              "          docLink.innerHTML = docLinkHtml;\n",
              "          element.appendChild(docLink);\n",
              "        }\n",
              "      </script>\n",
              "    </div>\n",
              "  </div>\n",
              "  "
            ]
          },
          "metadata": {},
          "execution_count": 11
        }
      ]
    },
    {
      "cell_type": "code",
      "source": [
        "cols = [\"인터넷이용방식\",\"지불방법\"]\n",
        "train_ft = train_ft.drop(columns = cols)\n",
        "test_ft = test_ft.drop(columns = cols)\n",
        "\n",
        "train_ft.shape , test_ft.shape"
      ],
      "metadata": {
        "colab": {
          "base_uri": "https://localhost:8080/"
        },
        "id": "wMygUtby7bkT",
        "outputId": "1973e4ab-786c-4c33-9f1a-c0cdf40c6429"
      },
      "execution_count": null,
      "outputs": [
        {
          "output_type": "execute_result",
          "data": {
            "text/plain": [
              "((4930, 24), (2113, 24))"
            ]
          },
          "metadata": {},
          "execution_count": 12
        }
      ]
    },
    {
      "cell_type": "code",
      "source": [
        "from sklearn.preprocessing import StandardScaler\n",
        "scaler = StandardScaler()\n",
        "\n",
        "# 학습데이터\n",
        "train_ft = pd.DataFrame(\n",
        "    scaler.fit_transform(train_ft),\n",
        "    columns = train_ft.columns\n",
        ")\n",
        "\n",
        "# 테스트 데이터\n",
        "test_ft = pd.DataFrame(\n",
        "    scaler.transform(test_ft),\n",
        "    columns = test_ft.columns\n",
        ")"
      ],
      "metadata": {
        "id": "BPnzJ0e37Tj0"
      },
      "execution_count": null,
      "outputs": []
    },
    {
      "cell_type": "code",
      "source": [
        "from sklearn.preprocessing import StandardScaler\n",
        "from sklearn.model_selection import cross_val_score\n",
        "from sklearn.linear_model import LogisticRegression\n",
        "from sklearn.model_selection import KFold\n",
        "\n",
        "cv = KFold(n_splits=5,shuffle=True, random_state=SEED)"
      ],
      "metadata": {
        "id": "2UeEVo8Q3EbQ"
      },
      "execution_count": null,
      "outputs": []
    },
    {
      "cell_type": "code",
      "source": [
        "target = train[\"이탈여부\"]\n",
        "target"
      ],
      "metadata": {
        "colab": {
          "base_uri": "https://localhost:8080/"
        },
        "id": "4BRUeEZc8NEy",
        "outputId": "7ed7ff76-7832-4107-9173-87d5dcc34daf"
      },
      "execution_count": null,
      "outputs": [
        {
          "output_type": "execute_result",
          "data": {
            "text/plain": [
              "0       0\n",
              "1       1\n",
              "2       1\n",
              "3       0\n",
              "4       1\n",
              "       ..\n",
              "4925    0\n",
              "4926    0\n",
              "4927    0\n",
              "4928    0\n",
              "4929    0\n",
              "Name: 이탈여부, Length: 4930, dtype: int64"
            ]
          },
          "metadata": {},
          "execution_count": 15
        }
      ]
    },
    {
      "cell_type": "code",
      "source": [
        "train.info()"
      ],
      "metadata": {
        "colab": {
          "base_uri": "https://localhost:8080/"
        },
        "id": "Bj4at8UrGJ48",
        "outputId": "a3914edf-99a4-4b01-844c-275162de4988"
      },
      "execution_count": null,
      "outputs": [
        {
          "output_type": "stream",
          "name": "stdout",
          "text": [
            "<class 'pandas.core.frame.DataFrame'>\n",
            "RangeIndex: 4930 entries, 0 to 4929\n",
            "Data columns (total 21 columns):\n",
            " #   Column          Non-Null Count  Dtype  \n",
            "---  ------          --------------  -----  \n",
            " 0   ID              4930 non-null   object \n",
            " 1   성별              4930 non-null   int64  \n",
            " 2   고령자여부           4930 non-null   int64  \n",
            " 3   기혼여부            4930 non-null   int64  \n",
            " 4   부양가족여부          4930 non-null   int64  \n",
            " 5   가입기간            4930 non-null   int64  \n",
            " 6   집전화이용여부         4930 non-null   int64  \n",
            " 7   다중회선여부          4930 non-null   int64  \n",
            " 8   인터넷이용방식         4930 non-null   object \n",
            " 9   인터넷보안서비스사용여부    4930 non-null   int64  \n",
            " 10  인터넷백업서비스사용여부    4930 non-null   int64  \n",
            " 11  기기방화벽서비스사용여부    4930 non-null   int64  \n",
            " 12  인터넷기술지원서비스사용여부  4930 non-null   int64  \n",
            " 13  스트리밍TV여부        4930 non-null   int64  \n",
            " 14  스트리밍영화여부        4930 non-null   int64  \n",
            " 15  약정기간            4930 non-null   int64  \n",
            " 16  지로여부            4930 non-null   int64  \n",
            " 17  지불방법            4930 non-null   object \n",
            " 18  한달요금            4930 non-null   float64\n",
            " 19  총지불요금           4930 non-null   float64\n",
            " 20  이탈여부            4930 non-null   int64  \n",
            "dtypes: float64(2), int64(16), object(3)\n",
            "memory usage: 809.0+ KB\n"
          ]
        }
      ]
    },
    {
      "cell_type": "code",
      "source": [
        "!pip install flaml"
      ],
      "metadata": {
        "colab": {
          "base_uri": "https://localhost:8080/"
        },
        "id": "9zp-nqKS8ToI",
        "outputId": "d180119c-155b-4e1d-8bf7-e7316a458474"
      },
      "execution_count": null,
      "outputs": [
        {
          "output_type": "stream",
          "name": "stdout",
          "text": [
            "Looking in indexes: https://pypi.org/simple, https://us-python.pkg.dev/colab-wheels/public/simple/\n",
            "Collecting flaml\n",
            "  Downloading FLAML-1.2.4-py3-none-any.whl (260 kB)\n",
            "\u001b[2K     \u001b[90m━━━━━━━━━━━━━━━━━━━━━━━━━━━━━━━━━━━━━━\u001b[0m \u001b[32m260.5/260.5 kB\u001b[0m \u001b[31m10.9 MB/s\u001b[0m eta \u001b[36m0:00:00\u001b[0m\n",
            "\u001b[?25hRequirement already satisfied: NumPy>=1.17.0rc1 in /usr/local/lib/python3.10/dist-packages (from flaml) (1.22.4)\n",
            "Requirement already satisfied: lightgbm>=2.3.1 in /usr/local/lib/python3.10/dist-packages (from flaml) (3.3.5)\n",
            "Requirement already satisfied: xgboost>=0.90 in /usr/local/lib/python3.10/dist-packages (from flaml) (1.7.5)\n",
            "Requirement already satisfied: scipy>=1.4.1 in /usr/local/lib/python3.10/dist-packages (from flaml) (1.10.1)\n",
            "Requirement already satisfied: pandas>=1.1.4 in /usr/local/lib/python3.10/dist-packages (from flaml) (1.5.3)\n",
            "Requirement already satisfied: scikit-learn>=0.24 in /usr/local/lib/python3.10/dist-packages (from flaml) (1.2.2)\n",
            "Requirement already satisfied: wheel in /usr/local/lib/python3.10/dist-packages (from lightgbm>=2.3.1->flaml) (0.40.0)\n",
            "Requirement already satisfied: python-dateutil>=2.8.1 in /usr/local/lib/python3.10/dist-packages (from pandas>=1.1.4->flaml) (2.8.2)\n",
            "Requirement already satisfied: pytz>=2020.1 in /usr/local/lib/python3.10/dist-packages (from pandas>=1.1.4->flaml) (2022.7.1)\n",
            "Requirement already satisfied: joblib>=1.1.1 in /usr/local/lib/python3.10/dist-packages (from scikit-learn>=0.24->flaml) (1.2.0)\n",
            "Requirement already satisfied: threadpoolctl>=2.0.0 in /usr/local/lib/python3.10/dist-packages (from scikit-learn>=0.24->flaml) (3.1.0)\n",
            "Requirement already satisfied: six>=1.5 in /usr/local/lib/python3.10/dist-packages (from python-dateutil>=2.8.1->pandas>=1.1.4->flaml) (1.16.0)\n",
            "Installing collected packages: flaml\n",
            "Successfully installed flaml-1.2.4\n"
          ]
        }
      ]
    },
    {
      "cell_type": "code",
      "source": [
        "from flaml import AutoML"
      ],
      "metadata": {
        "id": "5p7pSgaZ8V05"
      },
      "execution_count": null,
      "outputs": []
    },
    {
      "cell_type": "code",
      "source": [
        "auto_ml = AutoML()\n",
        "params = {\n",
        "    \"metric\": \"roc_auc\",\n",
        "    \"task\": \"classification\",\n",
        "    \"time_budget\": 60, # 초단위\n",
        "    \"seed\": SEED,\n",
        "    \"early_stop\":True\n",
        "}\n",
        "auto_ml.fit(train_ft, target, **params)"
      ],
      "metadata": {
        "colab": {
          "base_uri": "https://localhost:8080/"
        },
        "id": "aezm5MYn8akp",
        "outputId": "c5e4dcba-ba96-45a1-a643-a917c2f86f2c"
      },
      "execution_count": null,
      "outputs": [
        {
          "output_type": "stream",
          "name": "stdout",
          "text": [
            "[flaml.automl.logger: 06-08 05:28:27] {1693} INFO - task = classification\n",
            "[flaml.automl.logger: 06-08 05:28:27] {1700} INFO - Data split method: stratified\n",
            "[flaml.automl.logger: 06-08 05:28:27] {1703} INFO - Evaluation method: cv\n",
            "[flaml.automl.logger: 06-08 05:28:27] {1801} INFO - Minimizing error metric: 1-roc_auc\n",
            "[flaml.automl.logger: 06-08 05:28:27] {1911} INFO - List of ML learners in AutoML Run: ['lgbm', 'rf', 'xgboost', 'extra_tree', 'xgb_limitdepth', 'lrl1']\n",
            "[flaml.automl.logger: 06-08 05:28:27] {2221} INFO - iteration 0, current learner lgbm\n",
            "[flaml.automl.logger: 06-08 05:28:27] {2347} INFO - Estimated sufficient time budget=2372s. Estimated necessary time budget=55s.\n",
            "[flaml.automl.logger: 06-08 05:28:27] {2394} INFO -  at 0.3s,\testimator lgbm's best error=0.1975,\tbest estimator lgbm's best error=0.1975\n",
            "[flaml.automl.logger: 06-08 05:28:27] {2221} INFO - iteration 1, current learner lgbm\n",
            "[flaml.automl.logger: 06-08 05:28:28] {2394} INFO -  at 0.4s,\testimator lgbm's best error=0.1971,\tbest estimator lgbm's best error=0.1971\n",
            "[flaml.automl.logger: 06-08 05:28:28] {2221} INFO - iteration 2, current learner lgbm\n",
            "[flaml.automl.logger: 06-08 05:28:28] {2394} INFO -  at 0.5s,\testimator lgbm's best error=0.1763,\tbest estimator lgbm's best error=0.1763\n",
            "[flaml.automl.logger: 06-08 05:28:28] {2221} INFO - iteration 3, current learner lgbm\n",
            "[flaml.automl.logger: 06-08 05:28:28] {2394} INFO -  at 0.6s,\testimator lgbm's best error=0.1597,\tbest estimator lgbm's best error=0.1597\n",
            "[flaml.automl.logger: 06-08 05:28:28] {2221} INFO - iteration 4, current learner lgbm\n",
            "[flaml.automl.logger: 06-08 05:28:28] {2394} INFO -  at 0.8s,\testimator lgbm's best error=0.1597,\tbest estimator lgbm's best error=0.1597\n",
            "[flaml.automl.logger: 06-08 05:28:28] {2221} INFO - iteration 5, current learner lgbm\n",
            "[flaml.automl.logger: 06-08 05:28:28] {2394} INFO -  at 0.9s,\testimator lgbm's best error=0.1576,\tbest estimator lgbm's best error=0.1576\n",
            "[flaml.automl.logger: 06-08 05:28:28] {2221} INFO - iteration 6, current learner lgbm\n",
            "[flaml.automl.logger: 06-08 05:28:28] {2394} INFO -  at 1.3s,\testimator lgbm's best error=0.1576,\tbest estimator lgbm's best error=0.1576\n",
            "[flaml.automl.logger: 06-08 05:28:28] {2221} INFO - iteration 7, current learner lgbm\n",
            "[flaml.automl.logger: 06-08 05:28:29] {2394} INFO -  at 1.5s,\testimator lgbm's best error=0.1526,\tbest estimator lgbm's best error=0.1526\n",
            "[flaml.automl.logger: 06-08 05:28:29] {2221} INFO - iteration 8, current learner xgboost\n",
            "[flaml.automl.logger: 06-08 05:28:29] {2394} INFO -  at 1.7s,\testimator xgboost's best error=0.1980,\tbest estimator lgbm's best error=0.1526\n",
            "[flaml.automl.logger: 06-08 05:28:29] {2221} INFO - iteration 9, current learner xgboost\n"
          ]
        },
        {
          "output_type": "stream",
          "name": "stderr",
          "text": [
            "/usr/local/lib/python3.10/dist-packages/xgboost/sklearn.py:1395: UserWarning: `use_label_encoder` is deprecated in 1.7.0.\n",
            "  warnings.warn(\"`use_label_encoder` is deprecated in 1.7.0.\")\n",
            "/usr/local/lib/python3.10/dist-packages/xgboost/sklearn.py:1395: UserWarning: `use_label_encoder` is deprecated in 1.7.0.\n",
            "  warnings.warn(\"`use_label_encoder` is deprecated in 1.7.0.\")\n",
            "/usr/local/lib/python3.10/dist-packages/xgboost/sklearn.py:1395: UserWarning: `use_label_encoder` is deprecated in 1.7.0.\n",
            "  warnings.warn(\"`use_label_encoder` is deprecated in 1.7.0.\")\n",
            "/usr/local/lib/python3.10/dist-packages/xgboost/sklearn.py:1395: UserWarning: `use_label_encoder` is deprecated in 1.7.0.\n",
            "  warnings.warn(\"`use_label_encoder` is deprecated in 1.7.0.\")\n",
            "/usr/local/lib/python3.10/dist-packages/xgboost/sklearn.py:1395: UserWarning: `use_label_encoder` is deprecated in 1.7.0.\n",
            "  warnings.warn(\"`use_label_encoder` is deprecated in 1.7.0.\")\n",
            "/usr/local/lib/python3.10/dist-packages/xgboost/sklearn.py:1395: UserWarning: `use_label_encoder` is deprecated in 1.7.0.\n",
            "  warnings.warn(\"`use_label_encoder` is deprecated in 1.7.0.\")\n"
          ]
        },
        {
          "output_type": "stream",
          "name": "stdout",
          "text": [
            "[flaml.automl.logger: 06-08 05:28:29] {2394} INFO -  at 1.8s,\testimator xgboost's best error=0.1980,\tbest estimator lgbm's best error=0.1526\n",
            "[flaml.automl.logger: 06-08 05:28:29] {2221} INFO - iteration 10, current learner xgboost\n"
          ]
        },
        {
          "output_type": "stream",
          "name": "stderr",
          "text": [
            "/usr/local/lib/python3.10/dist-packages/xgboost/sklearn.py:1395: UserWarning: `use_label_encoder` is deprecated in 1.7.0.\n",
            "  warnings.warn(\"`use_label_encoder` is deprecated in 1.7.0.\")\n",
            "/usr/local/lib/python3.10/dist-packages/xgboost/sklearn.py:1395: UserWarning: `use_label_encoder` is deprecated in 1.7.0.\n",
            "  warnings.warn(\"`use_label_encoder` is deprecated in 1.7.0.\")\n",
            "/usr/local/lib/python3.10/dist-packages/xgboost/sklearn.py:1395: UserWarning: `use_label_encoder` is deprecated in 1.7.0.\n",
            "  warnings.warn(\"`use_label_encoder` is deprecated in 1.7.0.\")\n",
            "/usr/local/lib/python3.10/dist-packages/xgboost/sklearn.py:1395: UserWarning: `use_label_encoder` is deprecated in 1.7.0.\n",
            "  warnings.warn(\"`use_label_encoder` is deprecated in 1.7.0.\")\n",
            "/usr/local/lib/python3.10/dist-packages/xgboost/sklearn.py:1395: UserWarning: `use_label_encoder` is deprecated in 1.7.0.\n",
            "  warnings.warn(\"`use_label_encoder` is deprecated in 1.7.0.\")\n",
            "/usr/local/lib/python3.10/dist-packages/xgboost/sklearn.py:1395: UserWarning: `use_label_encoder` is deprecated in 1.7.0.\n",
            "  warnings.warn(\"`use_label_encoder` is deprecated in 1.7.0.\")\n",
            "/usr/local/lib/python3.10/dist-packages/xgboost/sklearn.py:1395: UserWarning: `use_label_encoder` is deprecated in 1.7.0.\n",
            "  warnings.warn(\"`use_label_encoder` is deprecated in 1.7.0.\")\n",
            "/usr/local/lib/python3.10/dist-packages/xgboost/sklearn.py:1395: UserWarning: `use_label_encoder` is deprecated in 1.7.0.\n",
            "  warnings.warn(\"`use_label_encoder` is deprecated in 1.7.0.\")\n"
          ]
        },
        {
          "output_type": "stream",
          "name": "stdout",
          "text": [
            "[flaml.automl.logger: 06-08 05:28:29] {2394} INFO -  at 1.9s,\testimator xgboost's best error=0.1721,\tbest estimator lgbm's best error=0.1526\n",
            "[flaml.automl.logger: 06-08 05:28:29] {2221} INFO - iteration 11, current learner xgboost\n"
          ]
        },
        {
          "output_type": "stream",
          "name": "stderr",
          "text": [
            "/usr/local/lib/python3.10/dist-packages/xgboost/sklearn.py:1395: UserWarning: `use_label_encoder` is deprecated in 1.7.0.\n",
            "  warnings.warn(\"`use_label_encoder` is deprecated in 1.7.0.\")\n",
            "/usr/local/lib/python3.10/dist-packages/xgboost/sklearn.py:1395: UserWarning: `use_label_encoder` is deprecated in 1.7.0.\n",
            "  warnings.warn(\"`use_label_encoder` is deprecated in 1.7.0.\")\n",
            "/usr/local/lib/python3.10/dist-packages/xgboost/sklearn.py:1395: UserWarning: `use_label_encoder` is deprecated in 1.7.0.\n",
            "  warnings.warn(\"`use_label_encoder` is deprecated in 1.7.0.\")\n",
            "/usr/local/lib/python3.10/dist-packages/xgboost/sklearn.py:1395: UserWarning: `use_label_encoder` is deprecated in 1.7.0.\n",
            "  warnings.warn(\"`use_label_encoder` is deprecated in 1.7.0.\")\n",
            "/usr/local/lib/python3.10/dist-packages/xgboost/sklearn.py:1395: UserWarning: `use_label_encoder` is deprecated in 1.7.0.\n",
            "  warnings.warn(\"`use_label_encoder` is deprecated in 1.7.0.\")\n",
            "/usr/local/lib/python3.10/dist-packages/xgboost/sklearn.py:1395: UserWarning: `use_label_encoder` is deprecated in 1.7.0.\n",
            "  warnings.warn(\"`use_label_encoder` is deprecated in 1.7.0.\")\n"
          ]
        },
        {
          "output_type": "stream",
          "name": "stdout",
          "text": [
            "[flaml.automl.logger: 06-08 05:28:29] {2394} INFO -  at 2.3s,\testimator xgboost's best error=0.1721,\tbest estimator lgbm's best error=0.1526\n",
            "[flaml.automl.logger: 06-08 05:28:29] {2221} INFO - iteration 12, current learner extra_tree\n",
            "[flaml.automl.logger: 06-08 05:28:29] {2394} INFO -  at 2.4s,\testimator extra_tree's best error=0.1950,\tbest estimator lgbm's best error=0.1526\n",
            "[flaml.automl.logger: 06-08 05:28:29] {2221} INFO - iteration 13, current learner extra_tree\n",
            "[flaml.automl.logger: 06-08 05:28:30] {2394} INFO -  at 2.6s,\testimator extra_tree's best error=0.1837,\tbest estimator lgbm's best error=0.1526\n",
            "[flaml.automl.logger: 06-08 05:28:30] {2221} INFO - iteration 14, current learner rf\n",
            "[flaml.automl.logger: 06-08 05:28:30] {2394} INFO -  at 2.7s,\testimator rf's best error=0.1777,\tbest estimator lgbm's best error=0.1526\n",
            "[flaml.automl.logger: 06-08 05:28:30] {2221} INFO - iteration 15, current learner rf\n",
            "[flaml.automl.logger: 06-08 05:28:30] {2394} INFO -  at 2.9s,\testimator rf's best error=0.1777,\tbest estimator lgbm's best error=0.1526\n",
            "[flaml.automl.logger: 06-08 05:28:30] {2221} INFO - iteration 16, current learner rf\n",
            "[flaml.automl.logger: 06-08 05:28:30] {2394} INFO -  at 3.0s,\testimator rf's best error=0.1777,\tbest estimator lgbm's best error=0.1526\n",
            "[flaml.automl.logger: 06-08 05:28:30] {2221} INFO - iteration 17, current learner extra_tree\n",
            "[flaml.automl.logger: 06-08 05:28:30] {2394} INFO -  at 3.1s,\testimator extra_tree's best error=0.1802,\tbest estimator lgbm's best error=0.1526\n",
            "[flaml.automl.logger: 06-08 05:28:30] {2221} INFO - iteration 18, current learner lgbm\n",
            "[flaml.automl.logger: 06-08 05:28:30] {2394} INFO -  at 3.3s,\testimator lgbm's best error=0.1526,\tbest estimator lgbm's best error=0.1526\n",
            "[flaml.automl.logger: 06-08 05:28:30] {2221} INFO - iteration 19, current learner rf\n",
            "[flaml.automl.logger: 06-08 05:28:31] {2394} INFO -  at 3.4s,\testimator rf's best error=0.1732,\tbest estimator lgbm's best error=0.1526\n",
            "[flaml.automl.logger: 06-08 05:28:31] {2221} INFO - iteration 20, current learner lgbm\n",
            "[flaml.automl.logger: 06-08 05:28:31] {2394} INFO -  at 3.6s,\testimator lgbm's best error=0.1526,\tbest estimator lgbm's best error=0.1526\n",
            "[flaml.automl.logger: 06-08 05:28:31] {2221} INFO - iteration 21, current learner xgboost\n",
            "[flaml.automl.logger: 06-08 05:28:31] {2394} INFO -  at 3.8s,\testimator xgboost's best error=0.1574,\tbest estimator lgbm's best error=0.1526\n",
            "[flaml.automl.logger: 06-08 05:28:31] {2221} INFO - iteration 22, current learner lgbm\n"
          ]
        },
        {
          "output_type": "stream",
          "name": "stderr",
          "text": [
            "/usr/local/lib/python3.10/dist-packages/xgboost/sklearn.py:1395: UserWarning: `use_label_encoder` is deprecated in 1.7.0.\n",
            "  warnings.warn(\"`use_label_encoder` is deprecated in 1.7.0.\")\n",
            "/usr/local/lib/python3.10/dist-packages/xgboost/sklearn.py:1395: UserWarning: `use_label_encoder` is deprecated in 1.7.0.\n",
            "  warnings.warn(\"`use_label_encoder` is deprecated in 1.7.0.\")\n",
            "/usr/local/lib/python3.10/dist-packages/xgboost/sklearn.py:1395: UserWarning: `use_label_encoder` is deprecated in 1.7.0.\n",
            "  warnings.warn(\"`use_label_encoder` is deprecated in 1.7.0.\")\n",
            "/usr/local/lib/python3.10/dist-packages/xgboost/sklearn.py:1395: UserWarning: `use_label_encoder` is deprecated in 1.7.0.\n",
            "  warnings.warn(\"`use_label_encoder` is deprecated in 1.7.0.\")\n",
            "/usr/local/lib/python3.10/dist-packages/xgboost/sklearn.py:1395: UserWarning: `use_label_encoder` is deprecated in 1.7.0.\n",
            "  warnings.warn(\"`use_label_encoder` is deprecated in 1.7.0.\")\n"
          ]
        },
        {
          "output_type": "stream",
          "name": "stdout",
          "text": [
            "[flaml.automl.logger: 06-08 05:28:31] {2394} INFO -  at 4.0s,\testimator lgbm's best error=0.1526,\tbest estimator lgbm's best error=0.1526\n",
            "[flaml.automl.logger: 06-08 05:28:31] {2221} INFO - iteration 23, current learner lgbm\n",
            "[flaml.automl.logger: 06-08 05:28:31] {2394} INFO -  at 4.4s,\testimator lgbm's best error=0.1526,\tbest estimator lgbm's best error=0.1526\n",
            "[flaml.automl.logger: 06-08 05:28:31] {2221} INFO - iteration 24, current learner xgboost\n"
          ]
        },
        {
          "output_type": "stream",
          "name": "stderr",
          "text": [
            "/usr/local/lib/python3.10/dist-packages/xgboost/sklearn.py:1395: UserWarning: `use_label_encoder` is deprecated in 1.7.0.\n",
            "  warnings.warn(\"`use_label_encoder` is deprecated in 1.7.0.\")\n",
            "/usr/local/lib/python3.10/dist-packages/xgboost/sklearn.py:1395: UserWarning: `use_label_encoder` is deprecated in 1.7.0.\n",
            "  warnings.warn(\"`use_label_encoder` is deprecated in 1.7.0.\")\n",
            "/usr/local/lib/python3.10/dist-packages/xgboost/sklearn.py:1395: UserWarning: `use_label_encoder` is deprecated in 1.7.0.\n",
            "  warnings.warn(\"`use_label_encoder` is deprecated in 1.7.0.\")\n",
            "/usr/local/lib/python3.10/dist-packages/xgboost/sklearn.py:1395: UserWarning: `use_label_encoder` is deprecated in 1.7.0.\n",
            "  warnings.warn(\"`use_label_encoder` is deprecated in 1.7.0.\")\n",
            "/usr/local/lib/python3.10/dist-packages/xgboost/sklearn.py:1395: UserWarning: `use_label_encoder` is deprecated in 1.7.0.\n",
            "  warnings.warn(\"`use_label_encoder` is deprecated in 1.7.0.\")\n"
          ]
        },
        {
          "output_type": "stream",
          "name": "stdout",
          "text": [
            "[flaml.automl.logger: 06-08 05:28:32] {2394} INFO -  at 4.7s,\testimator xgboost's best error=0.1574,\tbest estimator lgbm's best error=0.1526\n",
            "[flaml.automl.logger: 06-08 05:28:32] {2221} INFO - iteration 25, current learner extra_tree\n",
            "[flaml.automl.logger: 06-08 05:28:32] {2394} INFO -  at 4.9s,\testimator extra_tree's best error=0.1723,\tbest estimator lgbm's best error=0.1526\n",
            "[flaml.automl.logger: 06-08 05:28:32] {2221} INFO - iteration 26, current learner xgboost\n"
          ]
        },
        {
          "output_type": "stream",
          "name": "stderr",
          "text": [
            "/usr/local/lib/python3.10/dist-packages/xgboost/sklearn.py:1395: UserWarning: `use_label_encoder` is deprecated in 1.7.0.\n",
            "  warnings.warn(\"`use_label_encoder` is deprecated in 1.7.0.\")\n",
            "/usr/local/lib/python3.10/dist-packages/xgboost/sklearn.py:1395: UserWarning: `use_label_encoder` is deprecated in 1.7.0.\n",
            "  warnings.warn(\"`use_label_encoder` is deprecated in 1.7.0.\")\n",
            "/usr/local/lib/python3.10/dist-packages/xgboost/sklearn.py:1395: UserWarning: `use_label_encoder` is deprecated in 1.7.0.\n",
            "  warnings.warn(\"`use_label_encoder` is deprecated in 1.7.0.\")\n",
            "/usr/local/lib/python3.10/dist-packages/xgboost/sklearn.py:1395: UserWarning: `use_label_encoder` is deprecated in 1.7.0.\n",
            "  warnings.warn(\"`use_label_encoder` is deprecated in 1.7.0.\")\n"
          ]
        },
        {
          "output_type": "stream",
          "name": "stdout",
          "text": [
            "[flaml.automl.logger: 06-08 05:28:35] {2394} INFO -  at 7.8s,\testimator xgboost's best error=0.1574,\tbest estimator lgbm's best error=0.1526\n",
            "[flaml.automl.logger: 06-08 05:28:35] {2221} INFO - iteration 27, current learner extra_tree\n"
          ]
        },
        {
          "output_type": "stream",
          "name": "stderr",
          "text": [
            "/usr/local/lib/python3.10/dist-packages/xgboost/sklearn.py:1395: UserWarning: `use_label_encoder` is deprecated in 1.7.0.\n",
            "  warnings.warn(\"`use_label_encoder` is deprecated in 1.7.0.\")\n"
          ]
        },
        {
          "output_type": "stream",
          "name": "stdout",
          "text": [
            "[flaml.automl.logger: 06-08 05:28:35] {2394} INFO -  at 8.0s,\testimator extra_tree's best error=0.1723,\tbest estimator lgbm's best error=0.1526\n",
            "[flaml.automl.logger: 06-08 05:28:35] {2221} INFO - iteration 28, current learner extra_tree\n",
            "[flaml.automl.logger: 06-08 05:28:35] {2394} INFO -  at 8.4s,\testimator extra_tree's best error=0.1715,\tbest estimator lgbm's best error=0.1526\n",
            "[flaml.automl.logger: 06-08 05:28:35] {2221} INFO - iteration 29, current learner xgboost\n"
          ]
        },
        {
          "output_type": "stream",
          "name": "stderr",
          "text": [
            "/usr/local/lib/python3.10/dist-packages/xgboost/sklearn.py:1395: UserWarning: `use_label_encoder` is deprecated in 1.7.0.\n",
            "  warnings.warn(\"`use_label_encoder` is deprecated in 1.7.0.\")\n",
            "/usr/local/lib/python3.10/dist-packages/xgboost/sklearn.py:1395: UserWarning: `use_label_encoder` is deprecated in 1.7.0.\n",
            "  warnings.warn(\"`use_label_encoder` is deprecated in 1.7.0.\")\n",
            "/usr/local/lib/python3.10/dist-packages/xgboost/sklearn.py:1395: UserWarning: `use_label_encoder` is deprecated in 1.7.0.\n",
            "  warnings.warn(\"`use_label_encoder` is deprecated in 1.7.0.\")\n",
            "/usr/local/lib/python3.10/dist-packages/xgboost/sklearn.py:1395: UserWarning: `use_label_encoder` is deprecated in 1.7.0.\n",
            "  warnings.warn(\"`use_label_encoder` is deprecated in 1.7.0.\")\n",
            "/usr/local/lib/python3.10/dist-packages/xgboost/sklearn.py:1395: UserWarning: `use_label_encoder` is deprecated in 1.7.0.\n",
            "  warnings.warn(\"`use_label_encoder` is deprecated in 1.7.0.\")\n"
          ]
        },
        {
          "output_type": "stream",
          "name": "stdout",
          "text": [
            "[flaml.automl.logger: 06-08 05:28:36] {2394} INFO -  at 9.4s,\testimator xgboost's best error=0.1574,\tbest estimator lgbm's best error=0.1526\n",
            "[flaml.automl.logger: 06-08 05:28:36] {2221} INFO - iteration 30, current learner lgbm\n",
            "[flaml.automl.logger: 06-08 05:28:39] {2394} INFO -  at 12.3s,\testimator lgbm's best error=0.1526,\tbest estimator lgbm's best error=0.1526\n",
            "[flaml.automl.logger: 06-08 05:28:39] {2221} INFO - iteration 31, current learner lgbm\n",
            "[flaml.automl.logger: 06-08 05:28:41] {2394} INFO -  at 13.7s,\testimator lgbm's best error=0.1526,\tbest estimator lgbm's best error=0.1526\n",
            "[flaml.automl.logger: 06-08 05:28:41] {2221} INFO - iteration 32, current learner lgbm\n",
            "[flaml.automl.logger: 06-08 05:28:46] {2394} INFO -  at 19.2s,\testimator lgbm's best error=0.1526,\tbest estimator lgbm's best error=0.1526\n",
            "[flaml.automl.logger: 06-08 05:28:46] {2221} INFO - iteration 33, current learner xgboost\n"
          ]
        },
        {
          "output_type": "stream",
          "name": "stderr",
          "text": [
            "/usr/local/lib/python3.10/dist-packages/xgboost/sklearn.py:1395: UserWarning: `use_label_encoder` is deprecated in 1.7.0.\n",
            "  warnings.warn(\"`use_label_encoder` is deprecated in 1.7.0.\")\n",
            "/usr/local/lib/python3.10/dist-packages/xgboost/sklearn.py:1395: UserWarning: `use_label_encoder` is deprecated in 1.7.0.\n",
            "  warnings.warn(\"`use_label_encoder` is deprecated in 1.7.0.\")\n",
            "/usr/local/lib/python3.10/dist-packages/xgboost/sklearn.py:1395: UserWarning: `use_label_encoder` is deprecated in 1.7.0.\n",
            "  warnings.warn(\"`use_label_encoder` is deprecated in 1.7.0.\")\n",
            "/usr/local/lib/python3.10/dist-packages/xgboost/sklearn.py:1395: UserWarning: `use_label_encoder` is deprecated in 1.7.0.\n",
            "  warnings.warn(\"`use_label_encoder` is deprecated in 1.7.0.\")\n",
            "/usr/local/lib/python3.10/dist-packages/xgboost/sklearn.py:1395: UserWarning: `use_label_encoder` is deprecated in 1.7.0.\n",
            "  warnings.warn(\"`use_label_encoder` is deprecated in 1.7.0.\")\n"
          ]
        },
        {
          "output_type": "stream",
          "name": "stdout",
          "text": [
            "[flaml.automl.logger: 06-08 05:28:48] {2394} INFO -  at 20.7s,\testimator xgboost's best error=0.1574,\tbest estimator lgbm's best error=0.1526\n",
            "[flaml.automl.logger: 06-08 05:28:48] {2221} INFO - iteration 34, current learner lgbm\n",
            "[flaml.automl.logger: 06-08 05:28:52] {2394} INFO -  at 25.2s,\testimator lgbm's best error=0.1526,\tbest estimator lgbm's best error=0.1526\n",
            "[flaml.automl.logger: 06-08 05:28:52] {2221} INFO - iteration 35, current learner rf\n",
            "[flaml.automl.logger: 06-08 05:28:52] {2394} INFO -  at 25.4s,\testimator rf's best error=0.1732,\tbest estimator lgbm's best error=0.1526\n",
            "[flaml.automl.logger: 06-08 05:28:52] {2221} INFO - iteration 36, current learner extra_tree\n",
            "[flaml.automl.logger: 06-08 05:28:53] {2394} INFO -  at 25.5s,\testimator extra_tree's best error=0.1701,\tbest estimator lgbm's best error=0.1526\n",
            "[flaml.automl.logger: 06-08 05:28:53] {2221} INFO - iteration 37, current learner xgboost\n",
            "[flaml.automl.logger: 06-08 05:28:53] {2394} INFO -  at 25.7s,\testimator xgboost's best error=0.1574,\tbest estimator lgbm's best error=0.1526\n",
            "[flaml.automl.logger: 06-08 05:28:53] {2221} INFO - iteration 38, current learner extra_tree\n"
          ]
        },
        {
          "output_type": "stream",
          "name": "stderr",
          "text": [
            "/usr/local/lib/python3.10/dist-packages/xgboost/sklearn.py:1395: UserWarning: `use_label_encoder` is deprecated in 1.7.0.\n",
            "  warnings.warn(\"`use_label_encoder` is deprecated in 1.7.0.\")\n",
            "/usr/local/lib/python3.10/dist-packages/xgboost/sklearn.py:1395: UserWarning: `use_label_encoder` is deprecated in 1.7.0.\n",
            "  warnings.warn(\"`use_label_encoder` is deprecated in 1.7.0.\")\n",
            "/usr/local/lib/python3.10/dist-packages/xgboost/sklearn.py:1395: UserWarning: `use_label_encoder` is deprecated in 1.7.0.\n",
            "  warnings.warn(\"`use_label_encoder` is deprecated in 1.7.0.\")\n",
            "/usr/local/lib/python3.10/dist-packages/xgboost/sklearn.py:1395: UserWarning: `use_label_encoder` is deprecated in 1.7.0.\n",
            "  warnings.warn(\"`use_label_encoder` is deprecated in 1.7.0.\")\n",
            "/usr/local/lib/python3.10/dist-packages/xgboost/sklearn.py:1395: UserWarning: `use_label_encoder` is deprecated in 1.7.0.\n",
            "  warnings.warn(\"`use_label_encoder` is deprecated in 1.7.0.\")\n"
          ]
        },
        {
          "output_type": "stream",
          "name": "stdout",
          "text": [
            "[flaml.automl.logger: 06-08 05:28:53] {2394} INFO -  at 25.8s,\testimator extra_tree's best error=0.1701,\tbest estimator lgbm's best error=0.1526\n",
            "[flaml.automl.logger: 06-08 05:28:53] {2221} INFO - iteration 39, current learner rf\n",
            "[flaml.automl.logger: 06-08 05:28:53] {2394} INFO -  at 26.1s,\testimator rf's best error=0.1732,\tbest estimator lgbm's best error=0.1526\n",
            "[flaml.automl.logger: 06-08 05:28:53] {2221} INFO - iteration 40, current learner xgboost\n",
            "[flaml.automl.logger: 06-08 05:28:53] {2394} INFO -  at 26.3s,\testimator xgboost's best error=0.1555,\tbest estimator lgbm's best error=0.1526\n",
            "[flaml.automl.logger: 06-08 05:28:53] {2221} INFO - iteration 41, current learner extra_tree\n"
          ]
        },
        {
          "output_type": "stream",
          "name": "stderr",
          "text": [
            "/usr/local/lib/python3.10/dist-packages/xgboost/sklearn.py:1395: UserWarning: `use_label_encoder` is deprecated in 1.7.0.\n",
            "  warnings.warn(\"`use_label_encoder` is deprecated in 1.7.0.\")\n",
            "/usr/local/lib/python3.10/dist-packages/xgboost/sklearn.py:1395: UserWarning: `use_label_encoder` is deprecated in 1.7.0.\n",
            "  warnings.warn(\"`use_label_encoder` is deprecated in 1.7.0.\")\n",
            "/usr/local/lib/python3.10/dist-packages/xgboost/sklearn.py:1395: UserWarning: `use_label_encoder` is deprecated in 1.7.0.\n",
            "  warnings.warn(\"`use_label_encoder` is deprecated in 1.7.0.\")\n",
            "/usr/local/lib/python3.10/dist-packages/xgboost/sklearn.py:1395: UserWarning: `use_label_encoder` is deprecated in 1.7.0.\n",
            "  warnings.warn(\"`use_label_encoder` is deprecated in 1.7.0.\")\n",
            "/usr/local/lib/python3.10/dist-packages/xgboost/sklearn.py:1395: UserWarning: `use_label_encoder` is deprecated in 1.7.0.\n",
            "  warnings.warn(\"`use_label_encoder` is deprecated in 1.7.0.\")\n"
          ]
        },
        {
          "output_type": "stream",
          "name": "stdout",
          "text": [
            "[flaml.automl.logger: 06-08 05:28:54] {2394} INFO -  at 26.6s,\testimator extra_tree's best error=0.1670,\tbest estimator lgbm's best error=0.1526\n",
            "[flaml.automl.logger: 06-08 05:28:54] {2221} INFO - iteration 42, current learner lgbm\n",
            "[flaml.automl.logger: 06-08 05:28:54] {2394} INFO -  at 26.7s,\testimator lgbm's best error=0.1526,\tbest estimator lgbm's best error=0.1526\n",
            "[flaml.automl.logger: 06-08 05:28:54] {2221} INFO - iteration 43, current learner extra_tree\n",
            "[flaml.automl.logger: 06-08 05:28:54] {2394} INFO -  at 27.3s,\testimator extra_tree's best error=0.1670,\tbest estimator lgbm's best error=0.1526\n",
            "[flaml.automl.logger: 06-08 05:28:54] {2221} INFO - iteration 44, current learner extra_tree\n",
            "[flaml.automl.logger: 06-08 05:28:55] {2394} INFO -  at 27.4s,\testimator extra_tree's best error=0.1670,\tbest estimator lgbm's best error=0.1526\n",
            "[flaml.automl.logger: 06-08 05:28:55] {2221} INFO - iteration 45, current learner extra_tree\n",
            "[flaml.automl.logger: 06-08 05:28:55] {2394} INFO -  at 27.7s,\testimator extra_tree's best error=0.1619,\tbest estimator lgbm's best error=0.1526\n",
            "[flaml.automl.logger: 06-08 05:28:55] {2221} INFO - iteration 46, current learner rf\n",
            "[flaml.automl.logger: 06-08 05:28:55] {2394} INFO -  at 27.8s,\testimator rf's best error=0.1732,\tbest estimator lgbm's best error=0.1526\n",
            "[flaml.automl.logger: 06-08 05:28:55] {2221} INFO - iteration 47, current learner extra_tree\n",
            "[flaml.automl.logger: 06-08 05:28:55] {2394} INFO -  at 28.1s,\testimator extra_tree's best error=0.1619,\tbest estimator lgbm's best error=0.1526\n",
            "[flaml.automl.logger: 06-08 05:28:55] {2221} INFO - iteration 48, current learner lgbm\n",
            "[flaml.automl.logger: 06-08 05:28:55] {2394} INFO -  at 28.2s,\testimator lgbm's best error=0.1526,\tbest estimator lgbm's best error=0.1526\n",
            "[flaml.automl.logger: 06-08 05:28:55] {2221} INFO - iteration 49, current learner xgboost\n",
            "[flaml.automl.logger: 06-08 05:28:55] {2394} INFO -  at 28.4s,\testimator xgboost's best error=0.1555,\tbest estimator lgbm's best error=0.1526\n",
            "[flaml.automl.logger: 06-08 05:28:55] {2221} INFO - iteration 50, current learner extra_tree\n"
          ]
        },
        {
          "output_type": "stream",
          "name": "stderr",
          "text": [
            "/usr/local/lib/python3.10/dist-packages/xgboost/sklearn.py:1395: UserWarning: `use_label_encoder` is deprecated in 1.7.0.\n",
            "  warnings.warn(\"`use_label_encoder` is deprecated in 1.7.0.\")\n",
            "/usr/local/lib/python3.10/dist-packages/xgboost/sklearn.py:1395: UserWarning: `use_label_encoder` is deprecated in 1.7.0.\n",
            "  warnings.warn(\"`use_label_encoder` is deprecated in 1.7.0.\")\n",
            "/usr/local/lib/python3.10/dist-packages/xgboost/sklearn.py:1395: UserWarning: `use_label_encoder` is deprecated in 1.7.0.\n",
            "  warnings.warn(\"`use_label_encoder` is deprecated in 1.7.0.\")\n",
            "/usr/local/lib/python3.10/dist-packages/xgboost/sklearn.py:1395: UserWarning: `use_label_encoder` is deprecated in 1.7.0.\n",
            "  warnings.warn(\"`use_label_encoder` is deprecated in 1.7.0.\")\n",
            "/usr/local/lib/python3.10/dist-packages/xgboost/sklearn.py:1395: UserWarning: `use_label_encoder` is deprecated in 1.7.0.\n",
            "  warnings.warn(\"`use_label_encoder` is deprecated in 1.7.0.\")\n"
          ]
        },
        {
          "output_type": "stream",
          "name": "stdout",
          "text": [
            "[flaml.automl.logger: 06-08 05:28:56] {2394} INFO -  at 28.7s,\testimator extra_tree's best error=0.1617,\tbest estimator lgbm's best error=0.1526\n",
            "[flaml.automl.logger: 06-08 05:28:56] {2221} INFO - iteration 51, current learner rf\n",
            "[flaml.automl.logger: 06-08 05:28:56] {2394} INFO -  at 28.9s,\testimator rf's best error=0.1732,\tbest estimator lgbm's best error=0.1526\n",
            "[flaml.automl.logger: 06-08 05:28:56] {2221} INFO - iteration 52, current learner rf\n",
            "[flaml.automl.logger: 06-08 05:28:56] {2394} INFO -  at 29.2s,\testimator rf's best error=0.1688,\tbest estimator lgbm's best error=0.1526\n",
            "[flaml.automl.logger: 06-08 05:28:56] {2221} INFO - iteration 53, current learner lgbm\n",
            "[flaml.automl.logger: 06-08 05:28:57] {2394} INFO -  at 29.7s,\testimator lgbm's best error=0.1526,\tbest estimator lgbm's best error=0.1526\n",
            "[flaml.automl.logger: 06-08 05:28:57] {2221} INFO - iteration 54, current learner lgbm\n",
            "[flaml.automl.logger: 06-08 05:28:57] {2394} INFO -  at 30.1s,\testimator lgbm's best error=0.1518,\tbest estimator lgbm's best error=0.1518\n",
            "[flaml.automl.logger: 06-08 05:28:57] {2221} INFO - iteration 55, current learner rf\n",
            "[flaml.automl.logger: 06-08 05:28:58] {2394} INFO -  at 30.9s,\testimator rf's best error=0.1640,\tbest estimator lgbm's best error=0.1518\n",
            "[flaml.automl.logger: 06-08 05:28:58] {2221} INFO - iteration 56, current learner rf\n",
            "[flaml.automl.logger: 06-08 05:28:58] {2394} INFO -  at 31.2s,\testimator rf's best error=0.1640,\tbest estimator lgbm's best error=0.1518\n",
            "[flaml.automl.logger: 06-08 05:28:58] {2221} INFO - iteration 57, current learner rf\n",
            "[flaml.automl.logger: 06-08 05:28:59] {2394} INFO -  at 31.9s,\testimator rf's best error=0.1600,\tbest estimator lgbm's best error=0.1518\n",
            "[flaml.automl.logger: 06-08 05:28:59] {2221} INFO - iteration 58, current learner rf\n",
            "[flaml.automl.logger: 06-08 05:29:00] {2394} INFO -  at 32.6s,\testimator rf's best error=0.1600,\tbest estimator lgbm's best error=0.1518\n",
            "[flaml.automl.logger: 06-08 05:29:00] {2221} INFO - iteration 59, current learner lgbm\n",
            "[flaml.automl.logger: 06-08 05:29:00] {2394} INFO -  at 32.8s,\testimator lgbm's best error=0.1518,\tbest estimator lgbm's best error=0.1518\n",
            "[flaml.automl.logger: 06-08 05:29:00] {2221} INFO - iteration 60, current learner rf\n",
            "[flaml.automl.logger: 06-08 05:29:01] {2394} INFO -  at 33.7s,\testimator rf's best error=0.1600,\tbest estimator lgbm's best error=0.1518\n",
            "[flaml.automl.logger: 06-08 05:29:01] {2221} INFO - iteration 61, current learner lgbm\n",
            "[flaml.automl.logger: 06-08 05:29:01] {2394} INFO -  at 34.1s,\testimator lgbm's best error=0.1518,\tbest estimator lgbm's best error=0.1518\n",
            "[flaml.automl.logger: 06-08 05:29:01] {2221} INFO - iteration 62, current learner rf\n",
            "[flaml.automl.logger: 06-08 05:29:02] {2394} INFO -  at 34.8s,\testimator rf's best error=0.1591,\tbest estimator lgbm's best error=0.1518\n",
            "[flaml.automl.logger: 06-08 05:29:02] {2221} INFO - iteration 63, current learner xgb_limitdepth\n"
          ]
        },
        {
          "output_type": "stream",
          "name": "stderr",
          "text": [
            "/usr/local/lib/python3.10/dist-packages/xgboost/sklearn.py:1395: UserWarning: `use_label_encoder` is deprecated in 1.7.0.\n",
            "  warnings.warn(\"`use_label_encoder` is deprecated in 1.7.0.\")\n",
            "/usr/local/lib/python3.10/dist-packages/xgboost/sklearn.py:1395: UserWarning: `use_label_encoder` is deprecated in 1.7.0.\n",
            "  warnings.warn(\"`use_label_encoder` is deprecated in 1.7.0.\")\n",
            "/usr/local/lib/python3.10/dist-packages/xgboost/sklearn.py:1395: UserWarning: `use_label_encoder` is deprecated in 1.7.0.\n",
            "  warnings.warn(\"`use_label_encoder` is deprecated in 1.7.0.\")\n",
            "/usr/local/lib/python3.10/dist-packages/xgboost/sklearn.py:1395: UserWarning: `use_label_encoder` is deprecated in 1.7.0.\n",
            "  warnings.warn(\"`use_label_encoder` is deprecated in 1.7.0.\")\n"
          ]
        },
        {
          "output_type": "stream",
          "name": "stdout",
          "text": [
            "[flaml.automl.logger: 06-08 05:29:04] {2394} INFO -  at 37.3s,\testimator xgb_limitdepth's best error=0.1657,\tbest estimator lgbm's best error=0.1518\n",
            "[flaml.automl.logger: 06-08 05:29:04] {2221} INFO - iteration 64, current learner xgb_limitdepth\n"
          ]
        },
        {
          "output_type": "stream",
          "name": "stderr",
          "text": [
            "/usr/local/lib/python3.10/dist-packages/xgboost/sklearn.py:1395: UserWarning: `use_label_encoder` is deprecated in 1.7.0.\n",
            "  warnings.warn(\"`use_label_encoder` is deprecated in 1.7.0.\")\n",
            "/usr/local/lib/python3.10/dist-packages/xgboost/sklearn.py:1395: UserWarning: `use_label_encoder` is deprecated in 1.7.0.\n",
            "  warnings.warn(\"`use_label_encoder` is deprecated in 1.7.0.\")\n",
            "/usr/local/lib/python3.10/dist-packages/xgboost/sklearn.py:1395: UserWarning: `use_label_encoder` is deprecated in 1.7.0.\n",
            "  warnings.warn(\"`use_label_encoder` is deprecated in 1.7.0.\")\n"
          ]
        },
        {
          "output_type": "stream",
          "name": "stdout",
          "text": [
            "[flaml.automl.logger: 06-08 05:29:05] {2394} INFO -  at 37.6s,\testimator xgb_limitdepth's best error=0.1568,\tbest estimator lgbm's best error=0.1518\n",
            "[flaml.automl.logger: 06-08 05:29:05] {2221} INFO - iteration 65, current learner xgb_limitdepth\n"
          ]
        },
        {
          "output_type": "stream",
          "name": "stderr",
          "text": [
            "/usr/local/lib/python3.10/dist-packages/xgboost/sklearn.py:1395: UserWarning: `use_label_encoder` is deprecated in 1.7.0.\n",
            "  warnings.warn(\"`use_label_encoder` is deprecated in 1.7.0.\")\n",
            "/usr/local/lib/python3.10/dist-packages/xgboost/sklearn.py:1395: UserWarning: `use_label_encoder` is deprecated in 1.7.0.\n",
            "  warnings.warn(\"`use_label_encoder` is deprecated in 1.7.0.\")\n",
            "/usr/local/lib/python3.10/dist-packages/xgboost/sklearn.py:1395: UserWarning: `use_label_encoder` is deprecated in 1.7.0.\n",
            "  warnings.warn(\"`use_label_encoder` is deprecated in 1.7.0.\")\n",
            "/usr/local/lib/python3.10/dist-packages/xgboost/sklearn.py:1395: UserWarning: `use_label_encoder` is deprecated in 1.7.0.\n",
            "  warnings.warn(\"`use_label_encoder` is deprecated in 1.7.0.\")\n",
            "/usr/local/lib/python3.10/dist-packages/xgboost/sklearn.py:1395: UserWarning: `use_label_encoder` is deprecated in 1.7.0.\n",
            "  warnings.warn(\"`use_label_encoder` is deprecated in 1.7.0.\")\n",
            "/usr/local/lib/python3.10/dist-packages/xgboost/sklearn.py:1395: UserWarning: `use_label_encoder` is deprecated in 1.7.0.\n",
            "  warnings.warn(\"`use_label_encoder` is deprecated in 1.7.0.\")\n",
            "/usr/local/lib/python3.10/dist-packages/xgboost/sklearn.py:1395: UserWarning: `use_label_encoder` is deprecated in 1.7.0.\n",
            "  warnings.warn(\"`use_label_encoder` is deprecated in 1.7.0.\")\n"
          ]
        },
        {
          "output_type": "stream",
          "name": "stdout",
          "text": [
            "[flaml.automl.logger: 06-08 05:29:05] {2394} INFO -  at 38.0s,\testimator xgb_limitdepth's best error=0.1568,\tbest estimator lgbm's best error=0.1518\n",
            "[flaml.automl.logger: 06-08 05:29:05] {2221} INFO - iteration 66, current learner xgb_limitdepth\n"
          ]
        },
        {
          "output_type": "stream",
          "name": "stderr",
          "text": [
            "/usr/local/lib/python3.10/dist-packages/xgboost/sklearn.py:1395: UserWarning: `use_label_encoder` is deprecated in 1.7.0.\n",
            "  warnings.warn(\"`use_label_encoder` is deprecated in 1.7.0.\")\n",
            "/usr/local/lib/python3.10/dist-packages/xgboost/sklearn.py:1395: UserWarning: `use_label_encoder` is deprecated in 1.7.0.\n",
            "  warnings.warn(\"`use_label_encoder` is deprecated in 1.7.0.\")\n",
            "/usr/local/lib/python3.10/dist-packages/xgboost/sklearn.py:1395: UserWarning: `use_label_encoder` is deprecated in 1.7.0.\n",
            "  warnings.warn(\"`use_label_encoder` is deprecated in 1.7.0.\")\n",
            "/usr/local/lib/python3.10/dist-packages/xgboost/sklearn.py:1395: UserWarning: `use_label_encoder` is deprecated in 1.7.0.\n",
            "  warnings.warn(\"`use_label_encoder` is deprecated in 1.7.0.\")\n"
          ]
        },
        {
          "output_type": "stream",
          "name": "stdout",
          "text": [
            "[flaml.automl.logger: 06-08 05:29:05] {2394} INFO -  at 38.3s,\testimator xgb_limitdepth's best error=0.1568,\tbest estimator lgbm's best error=0.1518\n",
            "[flaml.automl.logger: 06-08 05:29:05] {2221} INFO - iteration 67, current learner xgb_limitdepth\n"
          ]
        },
        {
          "output_type": "stream",
          "name": "stderr",
          "text": [
            "/usr/local/lib/python3.10/dist-packages/xgboost/sklearn.py:1395: UserWarning: `use_label_encoder` is deprecated in 1.7.0.\n",
            "  warnings.warn(\"`use_label_encoder` is deprecated in 1.7.0.\")\n",
            "/usr/local/lib/python3.10/dist-packages/xgboost/sklearn.py:1395: UserWarning: `use_label_encoder` is deprecated in 1.7.0.\n",
            "  warnings.warn(\"`use_label_encoder` is deprecated in 1.7.0.\")\n",
            "/usr/local/lib/python3.10/dist-packages/xgboost/sklearn.py:1395: UserWarning: `use_label_encoder` is deprecated in 1.7.0.\n",
            "  warnings.warn(\"`use_label_encoder` is deprecated in 1.7.0.\")\n",
            "/usr/local/lib/python3.10/dist-packages/xgboost/sklearn.py:1395: UserWarning: `use_label_encoder` is deprecated in 1.7.0.\n",
            "  warnings.warn(\"`use_label_encoder` is deprecated in 1.7.0.\")\n",
            "/usr/local/lib/python3.10/dist-packages/xgboost/sklearn.py:1395: UserWarning: `use_label_encoder` is deprecated in 1.7.0.\n",
            "  warnings.warn(\"`use_label_encoder` is deprecated in 1.7.0.\")\n",
            "/usr/local/lib/python3.10/dist-packages/xgboost/sklearn.py:1395: UserWarning: `use_label_encoder` is deprecated in 1.7.0.\n",
            "  warnings.warn(\"`use_label_encoder` is deprecated in 1.7.0.\")\n"
          ]
        },
        {
          "output_type": "stream",
          "name": "stdout",
          "text": [
            "[flaml.automl.logger: 06-08 05:29:06] {2394} INFO -  at 38.8s,\testimator xgb_limitdepth's best error=0.1568,\tbest estimator lgbm's best error=0.1518\n",
            "[flaml.automl.logger: 06-08 05:29:06] {2221} INFO - iteration 68, current learner xgb_limitdepth\n"
          ]
        },
        {
          "output_type": "stream",
          "name": "stderr",
          "text": [
            "/usr/local/lib/python3.10/dist-packages/xgboost/sklearn.py:1395: UserWarning: `use_label_encoder` is deprecated in 1.7.0.\n",
            "  warnings.warn(\"`use_label_encoder` is deprecated in 1.7.0.\")\n",
            "/usr/local/lib/python3.10/dist-packages/xgboost/sklearn.py:1395: UserWarning: `use_label_encoder` is deprecated in 1.7.0.\n",
            "  warnings.warn(\"`use_label_encoder` is deprecated in 1.7.0.\")\n",
            "/usr/local/lib/python3.10/dist-packages/xgboost/sklearn.py:1395: UserWarning: `use_label_encoder` is deprecated in 1.7.0.\n",
            "  warnings.warn(\"`use_label_encoder` is deprecated in 1.7.0.\")\n",
            "/usr/local/lib/python3.10/dist-packages/xgboost/sklearn.py:1395: UserWarning: `use_label_encoder` is deprecated in 1.7.0.\n",
            "  warnings.warn(\"`use_label_encoder` is deprecated in 1.7.0.\")\n",
            "/usr/local/lib/python3.10/dist-packages/xgboost/sklearn.py:1395: UserWarning: `use_label_encoder` is deprecated in 1.7.0.\n",
            "  warnings.warn(\"`use_label_encoder` is deprecated in 1.7.0.\")\n"
          ]
        },
        {
          "output_type": "stream",
          "name": "stdout",
          "text": [
            "[flaml.automl.logger: 06-08 05:29:06] {2394} INFO -  at 38.9s,\testimator xgb_limitdepth's best error=0.1568,\tbest estimator lgbm's best error=0.1518\n",
            "[flaml.automl.logger: 06-08 05:29:06] {2221} INFO - iteration 69, current learner lgbm\n"
          ]
        },
        {
          "output_type": "stream",
          "name": "stderr",
          "text": [
            "/usr/local/lib/python3.10/dist-packages/xgboost/sklearn.py:1395: UserWarning: `use_label_encoder` is deprecated in 1.7.0.\n",
            "  warnings.warn(\"`use_label_encoder` is deprecated in 1.7.0.\")\n"
          ]
        },
        {
          "output_type": "stream",
          "name": "stdout",
          "text": [
            "[flaml.automl.logger: 06-08 05:29:06] {2394} INFO -  at 39.4s,\testimator lgbm's best error=0.1515,\tbest estimator lgbm's best error=0.1515\n",
            "[flaml.automl.logger: 06-08 05:29:06] {2221} INFO - iteration 70, current learner lgbm\n",
            "[flaml.automl.logger: 06-08 05:29:07] {2394} INFO -  at 39.6s,\testimator lgbm's best error=0.1515,\tbest estimator lgbm's best error=0.1515\n",
            "[flaml.automl.logger: 06-08 05:29:07] {2221} INFO - iteration 71, current learner xgb_limitdepth\n"
          ]
        },
        {
          "output_type": "stream",
          "name": "stderr",
          "text": [
            "/usr/local/lib/python3.10/dist-packages/xgboost/sklearn.py:1395: UserWarning: `use_label_encoder` is deprecated in 1.7.0.\n",
            "  warnings.warn(\"`use_label_encoder` is deprecated in 1.7.0.\")\n",
            "/usr/local/lib/python3.10/dist-packages/xgboost/sklearn.py:1395: UserWarning: `use_label_encoder` is deprecated in 1.7.0.\n",
            "  warnings.warn(\"`use_label_encoder` is deprecated in 1.7.0.\")\n",
            "/usr/local/lib/python3.10/dist-packages/xgboost/sklearn.py:1395: UserWarning: `use_label_encoder` is deprecated in 1.7.0.\n",
            "  warnings.warn(\"`use_label_encoder` is deprecated in 1.7.0.\")\n",
            "/usr/local/lib/python3.10/dist-packages/xgboost/sklearn.py:1395: UserWarning: `use_label_encoder` is deprecated in 1.7.0.\n",
            "  warnings.warn(\"`use_label_encoder` is deprecated in 1.7.0.\")\n"
          ]
        },
        {
          "output_type": "stream",
          "name": "stdout",
          "text": [
            "[flaml.automl.logger: 06-08 05:29:07] {2394} INFO -  at 40.4s,\testimator xgb_limitdepth's best error=0.1568,\tbest estimator lgbm's best error=0.1515\n",
            "[flaml.automl.logger: 06-08 05:29:08] {2221} INFO - iteration 72, current learner lgbm\n"
          ]
        },
        {
          "output_type": "stream",
          "name": "stderr",
          "text": [
            "/usr/local/lib/python3.10/dist-packages/xgboost/sklearn.py:1395: UserWarning: `use_label_encoder` is deprecated in 1.7.0.\n",
            "  warnings.warn(\"`use_label_encoder` is deprecated in 1.7.0.\")\n"
          ]
        },
        {
          "output_type": "stream",
          "name": "stdout",
          "text": [
            "[flaml.automl.logger: 06-08 05:29:08] {2394} INFO -  at 41.4s,\testimator lgbm's best error=0.1509,\tbest estimator lgbm's best error=0.1509\n",
            "[flaml.automl.logger: 06-08 05:29:08] {2221} INFO - iteration 73, current learner xgb_limitdepth\n"
          ]
        },
        {
          "output_type": "stream",
          "name": "stderr",
          "text": [
            "/usr/local/lib/python3.10/dist-packages/xgboost/sklearn.py:1395: UserWarning: `use_label_encoder` is deprecated in 1.7.0.\n",
            "  warnings.warn(\"`use_label_encoder` is deprecated in 1.7.0.\")\n",
            "/usr/local/lib/python3.10/dist-packages/xgboost/sklearn.py:1395: UserWarning: `use_label_encoder` is deprecated in 1.7.0.\n",
            "  warnings.warn(\"`use_label_encoder` is deprecated in 1.7.0.\")\n",
            "/usr/local/lib/python3.10/dist-packages/xgboost/sklearn.py:1395: UserWarning: `use_label_encoder` is deprecated in 1.7.0.\n",
            "  warnings.warn(\"`use_label_encoder` is deprecated in 1.7.0.\")\n"
          ]
        },
        {
          "output_type": "stream",
          "name": "stdout",
          "text": [
            "[flaml.automl.logger: 06-08 05:29:09] {2394} INFO -  at 41.9s,\testimator xgb_limitdepth's best error=0.1568,\tbest estimator lgbm's best error=0.1509\n",
            "[flaml.automl.logger: 06-08 05:29:09] {2221} INFO - iteration 74, current learner lgbm\n"
          ]
        },
        {
          "output_type": "stream",
          "name": "stderr",
          "text": [
            "/usr/local/lib/python3.10/dist-packages/xgboost/sklearn.py:1395: UserWarning: `use_label_encoder` is deprecated in 1.7.0.\n",
            "  warnings.warn(\"`use_label_encoder` is deprecated in 1.7.0.\")\n",
            "/usr/local/lib/python3.10/dist-packages/xgboost/sklearn.py:1395: UserWarning: `use_label_encoder` is deprecated in 1.7.0.\n",
            "  warnings.warn(\"`use_label_encoder` is deprecated in 1.7.0.\")\n"
          ]
        },
        {
          "output_type": "stream",
          "name": "stdout",
          "text": [
            "[flaml.automl.logger: 06-08 05:29:10] {2394} INFO -  at 42.9s,\testimator lgbm's best error=0.1507,\tbest estimator lgbm's best error=0.1507\n",
            "[flaml.automl.logger: 06-08 05:29:10] {2221} INFO - iteration 75, current learner xgb_limitdepth\n"
          ]
        },
        {
          "output_type": "stream",
          "name": "stderr",
          "text": [
            "/usr/local/lib/python3.10/dist-packages/xgboost/sklearn.py:1395: UserWarning: `use_label_encoder` is deprecated in 1.7.0.\n",
            "  warnings.warn(\"`use_label_encoder` is deprecated in 1.7.0.\")\n",
            "/usr/local/lib/python3.10/dist-packages/xgboost/sklearn.py:1395: UserWarning: `use_label_encoder` is deprecated in 1.7.0.\n",
            "  warnings.warn(\"`use_label_encoder` is deprecated in 1.7.0.\")\n",
            "/usr/local/lib/python3.10/dist-packages/xgboost/sklearn.py:1395: UserWarning: `use_label_encoder` is deprecated in 1.7.0.\n",
            "  warnings.warn(\"`use_label_encoder` is deprecated in 1.7.0.\")\n",
            "/usr/local/lib/python3.10/dist-packages/xgboost/sklearn.py:1395: UserWarning: `use_label_encoder` is deprecated in 1.7.0.\n",
            "  warnings.warn(\"`use_label_encoder` is deprecated in 1.7.0.\")\n",
            "/usr/local/lib/python3.10/dist-packages/xgboost/sklearn.py:1395: UserWarning: `use_label_encoder` is deprecated in 1.7.0.\n",
            "  warnings.warn(\"`use_label_encoder` is deprecated in 1.7.0.\")\n"
          ]
        },
        {
          "output_type": "stream",
          "name": "stdout",
          "text": [
            "[flaml.automl.logger: 06-08 05:29:10] {2394} INFO -  at 43.1s,\testimator xgb_limitdepth's best error=0.1568,\tbest estimator lgbm's best error=0.1507\n",
            "[flaml.automl.logger: 06-08 05:29:10] {2221} INFO - iteration 76, current learner lgbm\n",
            "[flaml.automl.logger: 06-08 05:29:11] {2394} INFO -  at 44.1s,\testimator lgbm's best error=0.1507,\tbest estimator lgbm's best error=0.1507\n",
            "[flaml.automl.logger: 06-08 05:29:11] {2221} INFO - iteration 77, current learner lgbm\n",
            "[flaml.automl.logger: 06-08 05:29:12] {2394} INFO -  at 44.9s,\testimator lgbm's best error=0.1507,\tbest estimator lgbm's best error=0.1507\n",
            "[flaml.automl.logger: 06-08 05:29:12] {2221} INFO - iteration 78, current learner xgb_limitdepth\n",
            "[flaml.automl.logger: 06-08 05:29:12] {2394} INFO -  at 45.1s,\testimator xgb_limitdepth's best error=0.1568,\tbest estimator lgbm's best error=0.1507\n",
            "[flaml.automl.logger: 06-08 05:29:12] {2221} INFO - iteration 79, current learner lgbm\n"
          ]
        },
        {
          "output_type": "stream",
          "name": "stderr",
          "text": [
            "/usr/local/lib/python3.10/dist-packages/xgboost/sklearn.py:1395: UserWarning: `use_label_encoder` is deprecated in 1.7.0.\n",
            "  warnings.warn(\"`use_label_encoder` is deprecated in 1.7.0.\")\n",
            "/usr/local/lib/python3.10/dist-packages/xgboost/sklearn.py:1395: UserWarning: `use_label_encoder` is deprecated in 1.7.0.\n",
            "  warnings.warn(\"`use_label_encoder` is deprecated in 1.7.0.\")\n",
            "/usr/local/lib/python3.10/dist-packages/xgboost/sklearn.py:1395: UserWarning: `use_label_encoder` is deprecated in 1.7.0.\n",
            "  warnings.warn(\"`use_label_encoder` is deprecated in 1.7.0.\")\n",
            "/usr/local/lib/python3.10/dist-packages/xgboost/sklearn.py:1395: UserWarning: `use_label_encoder` is deprecated in 1.7.0.\n",
            "  warnings.warn(\"`use_label_encoder` is deprecated in 1.7.0.\")\n",
            "/usr/local/lib/python3.10/dist-packages/xgboost/sklearn.py:1395: UserWarning: `use_label_encoder` is deprecated in 1.7.0.\n",
            "  warnings.warn(\"`use_label_encoder` is deprecated in 1.7.0.\")\n"
          ]
        },
        {
          "output_type": "stream",
          "name": "stdout",
          "text": [
            "[flaml.automl.logger: 06-08 05:29:14] {2394} INFO -  at 46.5s,\testimator lgbm's best error=0.1507,\tbest estimator lgbm's best error=0.1507\n",
            "[flaml.automl.logger: 06-08 05:29:14] {2221} INFO - iteration 80, current learner lgbm\n",
            "[flaml.automl.logger: 06-08 05:29:17] {2394} INFO -  at 49.6s,\testimator lgbm's best error=0.1507,\tbest estimator lgbm's best error=0.1507\n",
            "[flaml.automl.logger: 06-08 05:29:17] {2221} INFO - iteration 81, current learner xgb_limitdepth\n"
          ]
        },
        {
          "output_type": "stream",
          "name": "stderr",
          "text": [
            "/usr/local/lib/python3.10/dist-packages/xgboost/sklearn.py:1395: UserWarning: `use_label_encoder` is deprecated in 1.7.0.\n",
            "  warnings.warn(\"`use_label_encoder` is deprecated in 1.7.0.\")\n",
            "/usr/local/lib/python3.10/dist-packages/xgboost/sklearn.py:1395: UserWarning: `use_label_encoder` is deprecated in 1.7.0.\n",
            "  warnings.warn(\"`use_label_encoder` is deprecated in 1.7.0.\")\n",
            "/usr/local/lib/python3.10/dist-packages/xgboost/sklearn.py:1395: UserWarning: `use_label_encoder` is deprecated in 1.7.0.\n",
            "  warnings.warn(\"`use_label_encoder` is deprecated in 1.7.0.\")\n",
            "/usr/local/lib/python3.10/dist-packages/xgboost/sklearn.py:1395: UserWarning: `use_label_encoder` is deprecated in 1.7.0.\n",
            "  warnings.warn(\"`use_label_encoder` is deprecated in 1.7.0.\")\n"
          ]
        },
        {
          "output_type": "stream",
          "name": "stdout",
          "text": [
            "[flaml.automl.logger: 06-08 05:29:17] {2394} INFO -  at 50.2s,\testimator xgb_limitdepth's best error=0.1535,\tbest estimator lgbm's best error=0.1507\n",
            "[flaml.automl.logger: 06-08 05:29:17] {2221} INFO - iteration 82, current learner lgbm\n"
          ]
        },
        {
          "output_type": "stream",
          "name": "stderr",
          "text": [
            "/usr/local/lib/python3.10/dist-packages/xgboost/sklearn.py:1395: UserWarning: `use_label_encoder` is deprecated in 1.7.0.\n",
            "  warnings.warn(\"`use_label_encoder` is deprecated in 1.7.0.\")\n"
          ]
        },
        {
          "output_type": "stream",
          "name": "stdout",
          "text": [
            "[flaml.automl.logger: 06-08 05:29:19] {2394} INFO -  at 51.7s,\testimator lgbm's best error=0.1507,\tbest estimator lgbm's best error=0.1507\n",
            "[flaml.automl.logger: 06-08 05:29:19] {2221} INFO - iteration 83, current learner xgb_limitdepth\n"
          ]
        },
        {
          "output_type": "stream",
          "name": "stderr",
          "text": [
            "/usr/local/lib/python3.10/dist-packages/xgboost/sklearn.py:1395: UserWarning: `use_label_encoder` is deprecated in 1.7.0.\n",
            "  warnings.warn(\"`use_label_encoder` is deprecated in 1.7.0.\")\n",
            "/usr/local/lib/python3.10/dist-packages/xgboost/sklearn.py:1395: UserWarning: `use_label_encoder` is deprecated in 1.7.0.\n",
            "  warnings.warn(\"`use_label_encoder` is deprecated in 1.7.0.\")\n",
            "/usr/local/lib/python3.10/dist-packages/xgboost/sklearn.py:1395: UserWarning: `use_label_encoder` is deprecated in 1.7.0.\n",
            "  warnings.warn(\"`use_label_encoder` is deprecated in 1.7.0.\")\n",
            "/usr/local/lib/python3.10/dist-packages/xgboost/sklearn.py:1395: UserWarning: `use_label_encoder` is deprecated in 1.7.0.\n",
            "  warnings.warn(\"`use_label_encoder` is deprecated in 1.7.0.\")\n"
          ]
        },
        {
          "output_type": "stream",
          "name": "stdout",
          "text": [
            "[flaml.automl.logger: 06-08 05:29:19] {2394} INFO -  at 52.0s,\testimator xgb_limitdepth's best error=0.1535,\tbest estimator lgbm's best error=0.1507\n",
            "[flaml.automl.logger: 06-08 05:29:19] {2221} INFO - iteration 84, current learner xgb_limitdepth\n"
          ]
        },
        {
          "output_type": "stream",
          "name": "stderr",
          "text": [
            "/usr/local/lib/python3.10/dist-packages/xgboost/sklearn.py:1395: UserWarning: `use_label_encoder` is deprecated in 1.7.0.\n",
            "  warnings.warn(\"`use_label_encoder` is deprecated in 1.7.0.\")\n",
            "/usr/local/lib/python3.10/dist-packages/xgboost/sklearn.py:1395: UserWarning: `use_label_encoder` is deprecated in 1.7.0.\n",
            "  warnings.warn(\"`use_label_encoder` is deprecated in 1.7.0.\")\n",
            "/usr/local/lib/python3.10/dist-packages/xgboost/sklearn.py:1395: UserWarning: `use_label_encoder` is deprecated in 1.7.0.\n",
            "  warnings.warn(\"`use_label_encoder` is deprecated in 1.7.0.\")\n",
            "/usr/local/lib/python3.10/dist-packages/xgboost/sklearn.py:1395: UserWarning: `use_label_encoder` is deprecated in 1.7.0.\n",
            "  warnings.warn(\"`use_label_encoder` is deprecated in 1.7.0.\")\n",
            "/usr/local/lib/python3.10/dist-packages/xgboost/sklearn.py:1395: UserWarning: `use_label_encoder` is deprecated in 1.7.0.\n",
            "  warnings.warn(\"`use_label_encoder` is deprecated in 1.7.0.\")\n",
            "/usr/local/lib/python3.10/dist-packages/xgboost/sklearn.py:1395: UserWarning: `use_label_encoder` is deprecated in 1.7.0.\n",
            "  warnings.warn(\"`use_label_encoder` is deprecated in 1.7.0.\")\n"
          ]
        },
        {
          "output_type": "stream",
          "name": "stdout",
          "text": [
            "[flaml.automl.logger: 06-08 05:29:20] {2394} INFO -  at 53.3s,\testimator xgb_limitdepth's best error=0.1535,\tbest estimator lgbm's best error=0.1507\n",
            "[flaml.automl.logger: 06-08 05:29:20] {2221} INFO - iteration 85, current learner xgb_limitdepth\n"
          ]
        },
        {
          "output_type": "stream",
          "name": "stderr",
          "text": [
            "/usr/local/lib/python3.10/dist-packages/xgboost/sklearn.py:1395: UserWarning: `use_label_encoder` is deprecated in 1.7.0.\n",
            "  warnings.warn(\"`use_label_encoder` is deprecated in 1.7.0.\")\n",
            "/usr/local/lib/python3.10/dist-packages/xgboost/sklearn.py:1395: UserWarning: `use_label_encoder` is deprecated in 1.7.0.\n",
            "  warnings.warn(\"`use_label_encoder` is deprecated in 1.7.0.\")\n",
            "/usr/local/lib/python3.10/dist-packages/xgboost/sklearn.py:1395: UserWarning: `use_label_encoder` is deprecated in 1.7.0.\n",
            "  warnings.warn(\"`use_label_encoder` is deprecated in 1.7.0.\")\n",
            "/usr/local/lib/python3.10/dist-packages/xgboost/sklearn.py:1395: UserWarning: `use_label_encoder` is deprecated in 1.7.0.\n",
            "  warnings.warn(\"`use_label_encoder` is deprecated in 1.7.0.\")\n"
          ]
        },
        {
          "output_type": "stream",
          "name": "stdout",
          "text": [
            "[flaml.automl.logger: 06-08 05:29:21] {2394} INFO -  at 53.6s,\testimator xgb_limitdepth's best error=0.1535,\tbest estimator lgbm's best error=0.1507\n",
            "[flaml.automl.logger: 06-08 05:29:21] {2221} INFO - iteration 86, current learner extra_tree\n"
          ]
        },
        {
          "output_type": "stream",
          "name": "stderr",
          "text": [
            "/usr/local/lib/python3.10/dist-packages/xgboost/sklearn.py:1395: UserWarning: `use_label_encoder` is deprecated in 1.7.0.\n",
            "  warnings.warn(\"`use_label_encoder` is deprecated in 1.7.0.\")\n"
          ]
        },
        {
          "output_type": "stream",
          "name": "stdout",
          "text": [
            "[flaml.automl.logger: 06-08 05:29:21] {2394} INFO -  at 53.9s,\testimator extra_tree's best error=0.1615,\tbest estimator lgbm's best error=0.1507\n",
            "[flaml.automl.logger: 06-08 05:29:21] {2221} INFO - iteration 87, current learner xgb_limitdepth\n"
          ]
        },
        {
          "output_type": "stream",
          "name": "stderr",
          "text": [
            "/usr/local/lib/python3.10/dist-packages/xgboost/sklearn.py:1395: UserWarning: `use_label_encoder` is deprecated in 1.7.0.\n",
            "  warnings.warn(\"`use_label_encoder` is deprecated in 1.7.0.\")\n",
            "/usr/local/lib/python3.10/dist-packages/xgboost/sklearn.py:1395: UserWarning: `use_label_encoder` is deprecated in 1.7.0.\n",
            "  warnings.warn(\"`use_label_encoder` is deprecated in 1.7.0.\")\n",
            "/usr/local/lib/python3.10/dist-packages/xgboost/sklearn.py:1395: UserWarning: `use_label_encoder` is deprecated in 1.7.0.\n",
            "  warnings.warn(\"`use_label_encoder` is deprecated in 1.7.0.\")\n",
            "/usr/local/lib/python3.10/dist-packages/xgboost/sklearn.py:1395: UserWarning: `use_label_encoder` is deprecated in 1.7.0.\n",
            "  warnings.warn(\"`use_label_encoder` is deprecated in 1.7.0.\")\n",
            "/usr/local/lib/python3.10/dist-packages/xgboost/sklearn.py:1395: UserWarning: `use_label_encoder` is deprecated in 1.7.0.\n",
            "  warnings.warn(\"`use_label_encoder` is deprecated in 1.7.0.\")\n"
          ]
        },
        {
          "output_type": "stream",
          "name": "stdout",
          "text": [
            "[flaml.automl.logger: 06-08 05:29:23] {2394} INFO -  at 55.6s,\testimator xgb_limitdepth's best error=0.1519,\tbest estimator lgbm's best error=0.1507\n",
            "[flaml.automl.logger: 06-08 05:29:23] {2221} INFO - iteration 88, current learner rf\n",
            "[flaml.automl.logger: 06-08 05:29:24] {2394} INFO -  at 56.5s,\testimator rf's best error=0.1591,\tbest estimator lgbm's best error=0.1507\n",
            "[flaml.automl.logger: 06-08 05:29:24] {2221} INFO - iteration 89, current learner lgbm\n",
            "[flaml.automl.logger: 06-08 05:29:25] {2394} INFO -  at 57.5s,\testimator lgbm's best error=0.1507,\tbest estimator lgbm's best error=0.1507\n",
            "[flaml.automl.logger: 06-08 05:29:25] {2221} INFO - iteration 90, current learner xgb_limitdepth\n"
          ]
        },
        {
          "output_type": "stream",
          "name": "stderr",
          "text": [
            "/usr/local/lib/python3.10/dist-packages/xgboost/sklearn.py:1395: UserWarning: `use_label_encoder` is deprecated in 1.7.0.\n",
            "  warnings.warn(\"`use_label_encoder` is deprecated in 1.7.0.\")\n",
            "/usr/local/lib/python3.10/dist-packages/xgboost/sklearn.py:1395: UserWarning: `use_label_encoder` is deprecated in 1.7.0.\n",
            "  warnings.warn(\"`use_label_encoder` is deprecated in 1.7.0.\")\n",
            "/usr/local/lib/python3.10/dist-packages/xgboost/sklearn.py:1395: UserWarning: `use_label_encoder` is deprecated in 1.7.0.\n",
            "  warnings.warn(\"`use_label_encoder` is deprecated in 1.7.0.\")\n",
            "/usr/local/lib/python3.10/dist-packages/xgboost/sklearn.py:1395: UserWarning: `use_label_encoder` is deprecated in 1.7.0.\n",
            "  warnings.warn(\"`use_label_encoder` is deprecated in 1.7.0.\")\n"
          ]
        },
        {
          "output_type": "stream",
          "name": "stdout",
          "text": [
            "[flaml.automl.logger: 06-08 05:29:25] {2394} INFO -  at 58.4s,\testimator xgb_limitdepth's best error=0.1519,\tbest estimator lgbm's best error=0.1507\n",
            "[flaml.automl.logger: 06-08 05:29:25] {2221} INFO - iteration 91, current learner lgbm\n"
          ]
        },
        {
          "output_type": "stream",
          "name": "stderr",
          "text": [
            "/usr/local/lib/python3.10/dist-packages/xgboost/sklearn.py:1395: UserWarning: `use_label_encoder` is deprecated in 1.7.0.\n",
            "  warnings.warn(\"`use_label_encoder` is deprecated in 1.7.0.\")\n"
          ]
        },
        {
          "output_type": "stream",
          "name": "stdout",
          "text": [
            "[flaml.automl.logger: 06-08 05:29:27] {2394} INFO -  at 59.9s,\testimator lgbm's best error=0.1507,\tbest estimator lgbm's best error=0.1507\n",
            "[flaml.automl.logger: 06-08 05:29:27] {2221} INFO - iteration 92, current learner lrl1\n"
          ]
        },
        {
          "output_type": "stream",
          "name": "stderr",
          "text": [
            "INFO:flaml.tune.searcher.blendsearch:No low-cost partial config given to the search algorithm. For cost-frugal search, consider providing low-cost values for cost-related hps via 'low_cost_partial_config'. More info can be found at https://microsoft.github.io/FLAML/docs/FAQ#about-low_cost_partial_config-in-tune\n"
          ]
        },
        {
          "output_type": "stream",
          "name": "stdout",
          "text": [
            "[flaml.automl.logger: 06-08 05:29:27] {2394} INFO -  at 60.2s,\testimator lrl1's best error=0.1694,\tbest estimator lgbm's best error=0.1507\n"
          ]
        },
        {
          "output_type": "stream",
          "name": "stderr",
          "text": [
            "/usr/local/lib/python3.10/dist-packages/sklearn/linear_model/_sag.py:350: ConvergenceWarning: The max_iter was reached which means the coef_ did not converge\n",
            "  warnings.warn(\n"
          ]
        },
        {
          "output_type": "stream",
          "name": "stdout",
          "text": [
            "[flaml.automl.logger: 06-08 05:29:29] {2630} INFO - retrain lgbm for 1.7s\n",
            "[flaml.automl.logger: 06-08 05:29:29] {2633} INFO - retrained model: LGBMClassifier(colsample_bytree=0.7776783613176049,\n",
            "               learning_rate=0.056768842449641574, max_bin=31,\n",
            "               min_child_samples=27, n_estimators=459, num_leaves=4,\n",
            "               reg_alpha=0.010767168653883007, reg_lambda=156.96800382073496,\n",
            "               verbose=-1)\n",
            "[flaml.automl.logger: 06-08 05:29:29] {1941} INFO - fit succeeded\n",
            "[flaml.automl.logger: 06-08 05:29:29] {1942} INFO - Time taken to find the best model: 42.87995171546936\n"
          ]
        }
      ]
    },
    {
      "cell_type": "code",
      "source": [
        "auto_ml.model.estimator"
      ],
      "metadata": {
        "colab": {
          "base_uri": "https://localhost:8080/",
          "height": 144
        },
        "id": "oR9Lfytm9YEv",
        "outputId": "b8441441-7c40-43fa-ac7d-fa4268e6b70d"
      },
      "execution_count": null,
      "outputs": [
        {
          "output_type": "execute_result",
          "data": {
            "text/plain": [
              "LGBMClassifier(colsample_bytree=0.7776783613176049,\n",
              "               learning_rate=0.056768842449641574, max_bin=31,\n",
              "               min_child_samples=27, n_estimators=459, num_leaves=4,\n",
              "               reg_alpha=0.010767168653883007, reg_lambda=156.96800382073496,\n",
              "               verbose=-1)"
            ],
            "text/html": [
              "<style>#sk-container-id-1 {color: black;background-color: white;}#sk-container-id-1 pre{padding: 0;}#sk-container-id-1 div.sk-toggleable {background-color: white;}#sk-container-id-1 label.sk-toggleable__label {cursor: pointer;display: block;width: 100%;margin-bottom: 0;padding: 0.3em;box-sizing: border-box;text-align: center;}#sk-container-id-1 label.sk-toggleable__label-arrow:before {content: \"▸\";float: left;margin-right: 0.25em;color: #696969;}#sk-container-id-1 label.sk-toggleable__label-arrow:hover:before {color: black;}#sk-container-id-1 div.sk-estimator:hover label.sk-toggleable__label-arrow:before {color: black;}#sk-container-id-1 div.sk-toggleable__content {max-height: 0;max-width: 0;overflow: hidden;text-align: left;background-color: #f0f8ff;}#sk-container-id-1 div.sk-toggleable__content pre {margin: 0.2em;color: black;border-radius: 0.25em;background-color: #f0f8ff;}#sk-container-id-1 input.sk-toggleable__control:checked~div.sk-toggleable__content {max-height: 200px;max-width: 100%;overflow: auto;}#sk-container-id-1 input.sk-toggleable__control:checked~label.sk-toggleable__label-arrow:before {content: \"▾\";}#sk-container-id-1 div.sk-estimator input.sk-toggleable__control:checked~label.sk-toggleable__label {background-color: #d4ebff;}#sk-container-id-1 div.sk-label input.sk-toggleable__control:checked~label.sk-toggleable__label {background-color: #d4ebff;}#sk-container-id-1 input.sk-hidden--visually {border: 0;clip: rect(1px 1px 1px 1px);clip: rect(1px, 1px, 1px, 1px);height: 1px;margin: -1px;overflow: hidden;padding: 0;position: absolute;width: 1px;}#sk-container-id-1 div.sk-estimator {font-family: monospace;background-color: #f0f8ff;border: 1px dotted black;border-radius: 0.25em;box-sizing: border-box;margin-bottom: 0.5em;}#sk-container-id-1 div.sk-estimator:hover {background-color: #d4ebff;}#sk-container-id-1 div.sk-parallel-item::after {content: \"\";width: 100%;border-bottom: 1px solid gray;flex-grow: 1;}#sk-container-id-1 div.sk-label:hover label.sk-toggleable__label {background-color: #d4ebff;}#sk-container-id-1 div.sk-serial::before {content: \"\";position: absolute;border-left: 1px solid gray;box-sizing: border-box;top: 0;bottom: 0;left: 50%;z-index: 0;}#sk-container-id-1 div.sk-serial {display: flex;flex-direction: column;align-items: center;background-color: white;padding-right: 0.2em;padding-left: 0.2em;position: relative;}#sk-container-id-1 div.sk-item {position: relative;z-index: 1;}#sk-container-id-1 div.sk-parallel {display: flex;align-items: stretch;justify-content: center;background-color: white;position: relative;}#sk-container-id-1 div.sk-item::before, #sk-container-id-1 div.sk-parallel-item::before {content: \"\";position: absolute;border-left: 1px solid gray;box-sizing: border-box;top: 0;bottom: 0;left: 50%;z-index: -1;}#sk-container-id-1 div.sk-parallel-item {display: flex;flex-direction: column;z-index: 1;position: relative;background-color: white;}#sk-container-id-1 div.sk-parallel-item:first-child::after {align-self: flex-end;width: 50%;}#sk-container-id-1 div.sk-parallel-item:last-child::after {align-self: flex-start;width: 50%;}#sk-container-id-1 div.sk-parallel-item:only-child::after {width: 0;}#sk-container-id-1 div.sk-dashed-wrapped {border: 1px dashed gray;margin: 0 0.4em 0.5em 0.4em;box-sizing: border-box;padding-bottom: 0.4em;background-color: white;}#sk-container-id-1 div.sk-label label {font-family: monospace;font-weight: bold;display: inline-block;line-height: 1.2em;}#sk-container-id-1 div.sk-label-container {text-align: center;}#sk-container-id-1 div.sk-container {/* jupyter's `normalize.less` sets `[hidden] { display: none; }` but bootstrap.min.css set `[hidden] { display: none !important; }` so we also need the `!important` here to be able to override the default hidden behavior on the sphinx rendered scikit-learn.org. See: https://github.com/scikit-learn/scikit-learn/issues/21755 */display: inline-block !important;position: relative;}#sk-container-id-1 div.sk-text-repr-fallback {display: none;}</style><div id=\"sk-container-id-1\" class=\"sk-top-container\"><div class=\"sk-text-repr-fallback\"><pre>LGBMClassifier(colsample_bytree=0.7776783613176049,\n",
              "               learning_rate=0.056768842449641574, max_bin=31,\n",
              "               min_child_samples=27, n_estimators=459, num_leaves=4,\n",
              "               reg_alpha=0.010767168653883007, reg_lambda=156.96800382073496,\n",
              "               verbose=-1)</pre><b>In a Jupyter environment, please rerun this cell to show the HTML representation or trust the notebook. <br />On GitHub, the HTML representation is unable to render, please try loading this page with nbviewer.org.</b></div><div class=\"sk-container\" hidden><div class=\"sk-item\"><div class=\"sk-estimator sk-toggleable\"><input class=\"sk-toggleable__control sk-hidden--visually\" id=\"sk-estimator-id-1\" type=\"checkbox\" checked><label for=\"sk-estimator-id-1\" class=\"sk-toggleable__label sk-toggleable__label-arrow\">LGBMClassifier</label><div class=\"sk-toggleable__content\"><pre>LGBMClassifier(colsample_bytree=0.7776783613176049,\n",
              "               learning_rate=0.056768842449641574, max_bin=31,\n",
              "               min_child_samples=27, n_estimators=459, num_leaves=4,\n",
              "               reg_alpha=0.010767168653883007, reg_lambda=156.96800382073496,\n",
              "               verbose=-1)</pre></div></div></div></div></div>"
            ]
          },
          "metadata": {},
          "execution_count": 20
        }
      ]
    },
    {
      "cell_type": "code",
      "source": [
        "auto_ml.best_config"
      ],
      "metadata": {
        "colab": {
          "base_uri": "https://localhost:8080/"
        },
        "id": "nwyFtJM99iw8",
        "outputId": "c76edb7f-6646-4536-ce01-08161a2dab3f"
      },
      "execution_count": null,
      "outputs": [
        {
          "output_type": "execute_result",
          "data": {
            "text/plain": [
              "{'n_estimators': 459,\n",
              " 'num_leaves': 4,\n",
              " 'min_child_samples': 27,\n",
              " 'learning_rate': 0.056768842449641574,\n",
              " 'log_max_bin': 5,\n",
              " 'colsample_bytree': 0.7776783613176049,\n",
              " 'reg_alpha': 0.010767168653883007,\n",
              " 'reg_lambda': 156.96800382073496}"
            ]
          },
          "metadata": {},
          "execution_count": 21
        }
      ]
    },
    {
      "cell_type": "code",
      "source": [
        "auto_ml.best_loss"
      ],
      "metadata": {
        "colab": {
          "base_uri": "https://localhost:8080/"
        },
        "id": "2OCESdyW9cur",
        "outputId": "f91f9058-673b-4092-cab2-f19030e61480"
      },
      "execution_count": null,
      "outputs": [
        {
          "output_type": "execute_result",
          "data": {
            "text/plain": [
              "0.15066934610535326"
            ]
          },
          "metadata": {},
          "execution_count": 22
        }
      ]
    },
    {
      "cell_type": "code",
      "source": [
        "1 - auto_ml.best_loss"
      ],
      "metadata": {
        "colab": {
          "base_uri": "https://localhost:8080/"
        },
        "id": "k_QAsvzx9l-S",
        "outputId": "e70e156f-dad5-48a7-fee7-2ef4e6fc840f"
      },
      "execution_count": null,
      "outputs": [
        {
          "output_type": "execute_result",
          "data": {
            "text/plain": [
              "0.8493306538946468"
            ]
          },
          "metadata": {},
          "execution_count": 23
        }
      ]
    },
    {
      "cell_type": "code",
      "source": [
        "!pip install lightgbm"
      ],
      "metadata": {
        "colab": {
          "base_uri": "https://localhost:8080/"
        },
        "id": "adajxNbLQ-1a",
        "outputId": "0316d2e5-d17a-4673-defb-4f0bea91e762"
      },
      "execution_count": null,
      "outputs": [
        {
          "output_type": "stream",
          "name": "stdout",
          "text": [
            "Looking in indexes: https://pypi.org/simple, https://us-python.pkg.dev/colab-wheels/public/simple/\n",
            "Requirement already satisfied: lightgbm in /usr/local/lib/python3.10/dist-packages (3.3.5)\n",
            "Requirement already satisfied: wheel in /usr/local/lib/python3.10/dist-packages (from lightgbm) (0.40.0)\n",
            "Requirement already satisfied: numpy in /usr/local/lib/python3.10/dist-packages (from lightgbm) (1.22.4)\n",
            "Requirement already satisfied: scipy in /usr/local/lib/python3.10/dist-packages (from lightgbm) (1.10.1)\n",
            "Requirement already satisfied: scikit-learn!=0.22.0 in /usr/local/lib/python3.10/dist-packages (from lightgbm) (1.2.2)\n",
            "Requirement already satisfied: joblib>=1.1.1 in /usr/local/lib/python3.10/dist-packages (from scikit-learn!=0.22.0->lightgbm) (1.2.0)\n",
            "Requirement already satisfied: threadpoolctl>=2.0.0 in /usr/local/lib/python3.10/dist-packages (from scikit-learn!=0.22.0->lightgbm) (3.1.0)\n"
          ]
        }
      ]
    },
    {
      "cell_type": "code",
      "source": [
        "from lightgbm import LGBMClassifier"
      ],
      "metadata": {
        "id": "DhUIE-KNRA-d"
      },
      "execution_count": null,
      "outputs": []
    },
    {
      "cell_type": "code",
      "source": [
        "from sklearn.model_selection import cross_val_score\n",
        "model = LGBMClassifier(random_state=SEED, **auto_ml.best_config) # 튜닝된 하이퍼파라미터  적용\n",
        "scores = cross_val_score(model,train_ft,target,cv = cv ,scoring='roc_auc',n_jobs = -1)\n",
        "print(scores) # 폴드별 검증점수 리스트\n",
        "np.mean(scores) # cv 평균 점수"
      ],
      "metadata": {
        "colab": {
          "base_uri": "https://localhost:8080/"
        },
        "id": "U58SoWHlK03w",
        "outputId": "b5b821be-3f72-4892-93ec-fb5815ddf512"
      },
      "execution_count": null,
      "outputs": [
        {
          "output_type": "stream",
          "name": "stdout",
          "text": [
            "[0.84865165 0.84948705 0.85103973 0.8435179  0.85204378]\n"
          ]
        },
        {
          "output_type": "execute_result",
          "data": {
            "text/plain": [
              "0.8489480227113709"
            ]
          },
          "metadata": {},
          "execution_count": 26
        }
      ]
    },
    {
      "cell_type": "code",
      "source": [
        "model.fit(train_ft,target)\n",
        "pred = auto_ml.predict_proba(test_ft)[:,1]\n",
        "pred[:5]"
      ],
      "metadata": {
        "colab": {
          "base_uri": "https://localhost:8080/"
        },
        "id": "4xGYh6VYeVnb",
        "outputId": "2ea6a235-1ae2-463b-b3ae-c69d09bfff92"
      },
      "execution_count": null,
      "outputs": [
        {
          "output_type": "execute_result",
          "data": {
            "text/plain": [
              "array([0.69361482, 0.11278581, 0.49125283, 0.0775742 , 0.62933175])"
            ]
          },
          "metadata": {},
          "execution_count": 27
        }
      ]
    },
    {
      "cell_type": "code",
      "source": [
        "submit = pd.read_csv(f\"{DATA_PATH}sample_submission.csv\")\n",
        "submit"
      ],
      "metadata": {
        "id": "Ou48YiHkRTzl",
        "colab": {
          "base_uri": "https://localhost:8080/",
          "height": 423
        },
        "outputId": "8ecc1ad7-3a2e-4173-99f0-71f8d8e0072f"
      },
      "execution_count": null,
      "outputs": [
        {
          "output_type": "execute_result",
          "data": {
            "text/plain": [
              "             ID  target\n",
              "0        test_0     0.5\n",
              "1        test_1     0.5\n",
              "2        test_2     0.5\n",
              "3        test_3     0.5\n",
              "4        test_4     0.5\n",
              "...         ...     ...\n",
              "2108  test_2108     0.5\n",
              "2109  test_2109     0.5\n",
              "2110  test_2110     0.5\n",
              "2111  test_2111     0.5\n",
              "2112  test_2112     0.5\n",
              "\n",
              "[2113 rows x 2 columns]"
            ],
            "text/html": [
              "\n",
              "  <div id=\"df-9893321f-0b21-43ab-a3d8-99b2f1a3f022\">\n",
              "    <div class=\"colab-df-container\">\n",
              "      <div>\n",
              "<style scoped>\n",
              "    .dataframe tbody tr th:only-of-type {\n",
              "        vertical-align: middle;\n",
              "    }\n",
              "\n",
              "    .dataframe tbody tr th {\n",
              "        vertical-align: top;\n",
              "    }\n",
              "\n",
              "    .dataframe thead th {\n",
              "        text-align: right;\n",
              "    }\n",
              "</style>\n",
              "<table border=\"1\" class=\"dataframe\">\n",
              "  <thead>\n",
              "    <tr style=\"text-align: right;\">\n",
              "      <th></th>\n",
              "      <th>ID</th>\n",
              "      <th>target</th>\n",
              "    </tr>\n",
              "  </thead>\n",
              "  <tbody>\n",
              "    <tr>\n",
              "      <th>0</th>\n",
              "      <td>test_0</td>\n",
              "      <td>0.5</td>\n",
              "    </tr>\n",
              "    <tr>\n",
              "      <th>1</th>\n",
              "      <td>test_1</td>\n",
              "      <td>0.5</td>\n",
              "    </tr>\n",
              "    <tr>\n",
              "      <th>2</th>\n",
              "      <td>test_2</td>\n",
              "      <td>0.5</td>\n",
              "    </tr>\n",
              "    <tr>\n",
              "      <th>3</th>\n",
              "      <td>test_3</td>\n",
              "      <td>0.5</td>\n",
              "    </tr>\n",
              "    <tr>\n",
              "      <th>4</th>\n",
              "      <td>test_4</td>\n",
              "      <td>0.5</td>\n",
              "    </tr>\n",
              "    <tr>\n",
              "      <th>...</th>\n",
              "      <td>...</td>\n",
              "      <td>...</td>\n",
              "    </tr>\n",
              "    <tr>\n",
              "      <th>2108</th>\n",
              "      <td>test_2108</td>\n",
              "      <td>0.5</td>\n",
              "    </tr>\n",
              "    <tr>\n",
              "      <th>2109</th>\n",
              "      <td>test_2109</td>\n",
              "      <td>0.5</td>\n",
              "    </tr>\n",
              "    <tr>\n",
              "      <th>2110</th>\n",
              "      <td>test_2110</td>\n",
              "      <td>0.5</td>\n",
              "    </tr>\n",
              "    <tr>\n",
              "      <th>2111</th>\n",
              "      <td>test_2111</td>\n",
              "      <td>0.5</td>\n",
              "    </tr>\n",
              "    <tr>\n",
              "      <th>2112</th>\n",
              "      <td>test_2112</td>\n",
              "      <td>0.5</td>\n",
              "    </tr>\n",
              "  </tbody>\n",
              "</table>\n",
              "<p>2113 rows × 2 columns</p>\n",
              "</div>\n",
              "      <button class=\"colab-df-convert\" onclick=\"convertToInteractive('df-9893321f-0b21-43ab-a3d8-99b2f1a3f022')\"\n",
              "              title=\"Convert this dataframe to an interactive table.\"\n",
              "              style=\"display:none;\">\n",
              "        \n",
              "  <svg xmlns=\"http://www.w3.org/2000/svg\" height=\"24px\"viewBox=\"0 0 24 24\"\n",
              "       width=\"24px\">\n",
              "    <path d=\"M0 0h24v24H0V0z\" fill=\"none\"/>\n",
              "    <path d=\"M18.56 5.44l.94 2.06.94-2.06 2.06-.94-2.06-.94-.94-2.06-.94 2.06-2.06.94zm-11 1L8.5 8.5l.94-2.06 2.06-.94-2.06-.94L8.5 2.5l-.94 2.06-2.06.94zm10 10l.94 2.06.94-2.06 2.06-.94-2.06-.94-.94-2.06-.94 2.06-2.06.94z\"/><path d=\"M17.41 7.96l-1.37-1.37c-.4-.4-.92-.59-1.43-.59-.52 0-1.04.2-1.43.59L10.3 9.45l-7.72 7.72c-.78.78-.78 2.05 0 2.83L4 21.41c.39.39.9.59 1.41.59.51 0 1.02-.2 1.41-.59l7.78-7.78 2.81-2.81c.8-.78.8-2.07 0-2.86zM5.41 20L4 18.59l7.72-7.72 1.47 1.35L5.41 20z\"/>\n",
              "  </svg>\n",
              "      </button>\n",
              "      \n",
              "  <style>\n",
              "    .colab-df-container {\n",
              "      display:flex;\n",
              "      flex-wrap:wrap;\n",
              "      gap: 12px;\n",
              "    }\n",
              "\n",
              "    .colab-df-convert {\n",
              "      background-color: #E8F0FE;\n",
              "      border: none;\n",
              "      border-radius: 50%;\n",
              "      cursor: pointer;\n",
              "      display: none;\n",
              "      fill: #1967D2;\n",
              "      height: 32px;\n",
              "      padding: 0 0 0 0;\n",
              "      width: 32px;\n",
              "    }\n",
              "\n",
              "    .colab-df-convert:hover {\n",
              "      background-color: #E2EBFA;\n",
              "      box-shadow: 0px 1px 2px rgba(60, 64, 67, 0.3), 0px 1px 3px 1px rgba(60, 64, 67, 0.15);\n",
              "      fill: #174EA6;\n",
              "    }\n",
              "\n",
              "    [theme=dark] .colab-df-convert {\n",
              "      background-color: #3B4455;\n",
              "      fill: #D2E3FC;\n",
              "    }\n",
              "\n",
              "    [theme=dark] .colab-df-convert:hover {\n",
              "      background-color: #434B5C;\n",
              "      box-shadow: 0px 1px 3px 1px rgba(0, 0, 0, 0.15);\n",
              "      filter: drop-shadow(0px 1px 2px rgba(0, 0, 0, 0.3));\n",
              "      fill: #FFFFFF;\n",
              "    }\n",
              "  </style>\n",
              "\n",
              "      <script>\n",
              "        const buttonEl =\n",
              "          document.querySelector('#df-9893321f-0b21-43ab-a3d8-99b2f1a3f022 button.colab-df-convert');\n",
              "        buttonEl.style.display =\n",
              "          google.colab.kernel.accessAllowed ? 'block' : 'none';\n",
              "\n",
              "        async function convertToInteractive(key) {\n",
              "          const element = document.querySelector('#df-9893321f-0b21-43ab-a3d8-99b2f1a3f022');\n",
              "          const dataTable =\n",
              "            await google.colab.kernel.invokeFunction('convertToInteractive',\n",
              "                                                     [key], {});\n",
              "          if (!dataTable) return;\n",
              "\n",
              "          const docLinkHtml = 'Like what you see? Visit the ' +\n",
              "            '<a target=\"_blank\" href=https://colab.research.google.com/notebooks/data_table.ipynb>data table notebook</a>'\n",
              "            + ' to learn more about interactive tables.';\n",
              "          element.innerHTML = '';\n",
              "          dataTable['output_type'] = 'display_data';\n",
              "          await google.colab.output.renderOutput(dataTable, element);\n",
              "          const docLink = document.createElement('div');\n",
              "          docLink.innerHTML = docLinkHtml;\n",
              "          element.appendChild(docLink);\n",
              "        }\n",
              "      </script>\n",
              "    </div>\n",
              "  </div>\n",
              "  "
            ]
          },
          "metadata": {},
          "execution_count": 28
        }
      ]
    },
    {
      "cell_type": "code",
      "source": [
        "submit[\"target\"] = pred\n",
        "submit"
      ],
      "metadata": {
        "colab": {
          "base_uri": "https://localhost:8080/",
          "height": 423
        },
        "id": "NpjdQNviRXkn",
        "outputId": "cfe88af3-f06d-41ba-d551-f468df2630ac"
      },
      "execution_count": null,
      "outputs": [
        {
          "output_type": "execute_result",
          "data": {
            "text/plain": [
              "             ID    target\n",
              "0        test_0  0.693615\n",
              "1        test_1  0.112786\n",
              "2        test_2  0.491253\n",
              "3        test_3  0.077574\n",
              "4        test_4  0.629332\n",
              "...         ...       ...\n",
              "2108  test_2108  0.694903\n",
              "2109  test_2109  0.054869\n",
              "2110  test_2110  0.013360\n",
              "2111  test_2111  0.019764\n",
              "2112  test_2112  0.539581\n",
              "\n",
              "[2113 rows x 2 columns]"
            ],
            "text/html": [
              "\n",
              "  <div id=\"df-11f0fc61-caa7-44bc-adee-653b64b4c274\">\n",
              "    <div class=\"colab-df-container\">\n",
              "      <div>\n",
              "<style scoped>\n",
              "    .dataframe tbody tr th:only-of-type {\n",
              "        vertical-align: middle;\n",
              "    }\n",
              "\n",
              "    .dataframe tbody tr th {\n",
              "        vertical-align: top;\n",
              "    }\n",
              "\n",
              "    .dataframe thead th {\n",
              "        text-align: right;\n",
              "    }\n",
              "</style>\n",
              "<table border=\"1\" class=\"dataframe\">\n",
              "  <thead>\n",
              "    <tr style=\"text-align: right;\">\n",
              "      <th></th>\n",
              "      <th>ID</th>\n",
              "      <th>target</th>\n",
              "    </tr>\n",
              "  </thead>\n",
              "  <tbody>\n",
              "    <tr>\n",
              "      <th>0</th>\n",
              "      <td>test_0</td>\n",
              "      <td>0.693615</td>\n",
              "    </tr>\n",
              "    <tr>\n",
              "      <th>1</th>\n",
              "      <td>test_1</td>\n",
              "      <td>0.112786</td>\n",
              "    </tr>\n",
              "    <tr>\n",
              "      <th>2</th>\n",
              "      <td>test_2</td>\n",
              "      <td>0.491253</td>\n",
              "    </tr>\n",
              "    <tr>\n",
              "      <th>3</th>\n",
              "      <td>test_3</td>\n",
              "      <td>0.077574</td>\n",
              "    </tr>\n",
              "    <tr>\n",
              "      <th>4</th>\n",
              "      <td>test_4</td>\n",
              "      <td>0.629332</td>\n",
              "    </tr>\n",
              "    <tr>\n",
              "      <th>...</th>\n",
              "      <td>...</td>\n",
              "      <td>...</td>\n",
              "    </tr>\n",
              "    <tr>\n",
              "      <th>2108</th>\n",
              "      <td>test_2108</td>\n",
              "      <td>0.694903</td>\n",
              "    </tr>\n",
              "    <tr>\n",
              "      <th>2109</th>\n",
              "      <td>test_2109</td>\n",
              "      <td>0.054869</td>\n",
              "    </tr>\n",
              "    <tr>\n",
              "      <th>2110</th>\n",
              "      <td>test_2110</td>\n",
              "      <td>0.013360</td>\n",
              "    </tr>\n",
              "    <tr>\n",
              "      <th>2111</th>\n",
              "      <td>test_2111</td>\n",
              "      <td>0.019764</td>\n",
              "    </tr>\n",
              "    <tr>\n",
              "      <th>2112</th>\n",
              "      <td>test_2112</td>\n",
              "      <td>0.539581</td>\n",
              "    </tr>\n",
              "  </tbody>\n",
              "</table>\n",
              "<p>2113 rows × 2 columns</p>\n",
              "</div>\n",
              "      <button class=\"colab-df-convert\" onclick=\"convertToInteractive('df-11f0fc61-caa7-44bc-adee-653b64b4c274')\"\n",
              "              title=\"Convert this dataframe to an interactive table.\"\n",
              "              style=\"display:none;\">\n",
              "        \n",
              "  <svg xmlns=\"http://www.w3.org/2000/svg\" height=\"24px\"viewBox=\"0 0 24 24\"\n",
              "       width=\"24px\">\n",
              "    <path d=\"M0 0h24v24H0V0z\" fill=\"none\"/>\n",
              "    <path d=\"M18.56 5.44l.94 2.06.94-2.06 2.06-.94-2.06-.94-.94-2.06-.94 2.06-2.06.94zm-11 1L8.5 8.5l.94-2.06 2.06-.94-2.06-.94L8.5 2.5l-.94 2.06-2.06.94zm10 10l.94 2.06.94-2.06 2.06-.94-2.06-.94-.94-2.06-.94 2.06-2.06.94z\"/><path d=\"M17.41 7.96l-1.37-1.37c-.4-.4-.92-.59-1.43-.59-.52 0-1.04.2-1.43.59L10.3 9.45l-7.72 7.72c-.78.78-.78 2.05 0 2.83L4 21.41c.39.39.9.59 1.41.59.51 0 1.02-.2 1.41-.59l7.78-7.78 2.81-2.81c.8-.78.8-2.07 0-2.86zM5.41 20L4 18.59l7.72-7.72 1.47 1.35L5.41 20z\"/>\n",
              "  </svg>\n",
              "      </button>\n",
              "      \n",
              "  <style>\n",
              "    .colab-df-container {\n",
              "      display:flex;\n",
              "      flex-wrap:wrap;\n",
              "      gap: 12px;\n",
              "    }\n",
              "\n",
              "    .colab-df-convert {\n",
              "      background-color: #E8F0FE;\n",
              "      border: none;\n",
              "      border-radius: 50%;\n",
              "      cursor: pointer;\n",
              "      display: none;\n",
              "      fill: #1967D2;\n",
              "      height: 32px;\n",
              "      padding: 0 0 0 0;\n",
              "      width: 32px;\n",
              "    }\n",
              "\n",
              "    .colab-df-convert:hover {\n",
              "      background-color: #E2EBFA;\n",
              "      box-shadow: 0px 1px 2px rgba(60, 64, 67, 0.3), 0px 1px 3px 1px rgba(60, 64, 67, 0.15);\n",
              "      fill: #174EA6;\n",
              "    }\n",
              "\n",
              "    [theme=dark] .colab-df-convert {\n",
              "      background-color: #3B4455;\n",
              "      fill: #D2E3FC;\n",
              "    }\n",
              "\n",
              "    [theme=dark] .colab-df-convert:hover {\n",
              "      background-color: #434B5C;\n",
              "      box-shadow: 0px 1px 3px 1px rgba(0, 0, 0, 0.15);\n",
              "      filter: drop-shadow(0px 1px 2px rgba(0, 0, 0, 0.3));\n",
              "      fill: #FFFFFF;\n",
              "    }\n",
              "  </style>\n",
              "\n",
              "      <script>\n",
              "        const buttonEl =\n",
              "          document.querySelector('#df-11f0fc61-caa7-44bc-adee-653b64b4c274 button.colab-df-convert');\n",
              "        buttonEl.style.display =\n",
              "          google.colab.kernel.accessAllowed ? 'block' : 'none';\n",
              "\n",
              "        async function convertToInteractive(key) {\n",
              "          const element = document.querySelector('#df-11f0fc61-caa7-44bc-adee-653b64b4c274');\n",
              "          const dataTable =\n",
              "            await google.colab.kernel.invokeFunction('convertToInteractive',\n",
              "                                                     [key], {});\n",
              "          if (!dataTable) return;\n",
              "\n",
              "          const docLinkHtml = 'Like what you see? Visit the ' +\n",
              "            '<a target=\"_blank\" href=https://colab.research.google.com/notebooks/data_table.ipynb>data table notebook</a>'\n",
              "            + ' to learn more about interactive tables.';\n",
              "          element.innerHTML = '';\n",
              "          dataTable['output_type'] = 'display_data';\n",
              "          await google.colab.output.renderOutput(dataTable, element);\n",
              "          const docLink = document.createElement('div');\n",
              "          docLink.innerHTML = docLinkHtml;\n",
              "          element.appendChild(docLink);\n",
              "        }\n",
              "      </script>\n",
              "    </div>\n",
              "  </div>\n",
              "  "
            ]
          },
          "metadata": {},
          "execution_count": 29
        }
      ]
    },
    {
      "cell_type": "code",
      "source": [
        "submit.to_csv(\"test_submit.csv\",index=False) # 인덱스는 제외하기 위해 False"
      ],
      "metadata": {
        "id": "W3PRTv3nRb3z"
      },
      "execution_count": null,
      "outputs": []
    }
  ]
}